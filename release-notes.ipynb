{
 "cells": [
  {
   "cell_type": "code",
   "execution_count": 3,
   "id": "03360cdc-bc53-4654-b842-8f04d4272dc4",
   "metadata": {},
   "outputs": [],
   "source": [
    "from itertools import chain\n",
    "from pathlib import Path\n",
    "\n",
    "from IPython.display import Markdown, display\n",
    "from tqdm.notebook import tqdm\n",
    "\n",
    "import hashlib\n",
    "from os import environ\n",
    "import pyperclip\n",
    "import subprocess\n",
    "\n",
    "from githelpers import open_pbcopy\n",
    "import ghapicache\n",
    "import release_notes\n",
    "\n",
    "%load_ext autoreload\n",
    "%autoreload 1\n",
    "%aimport githelpers\n",
    "%aimport ghapicache\n",
    "%aimport release_notes"
   ]
  },
  {
   "cell_type": "code",
   "execution_count": 4,
   "id": "fa256c73-ddad-4370-b252-f0c3b4b24baa",
   "metadata": {},
   "outputs": [],
   "source": [
    "cached = ghapicache.GhApiCache()\n",
    "ghapi = cached.api"
   ]
  },
  {
   "cell_type": "code",
   "execution_count": 6,
   "id": "c16ed64d-8f86-481a-a49a-ef61f3f32922",
   "metadata": {},
   "outputs": [
    {
     "data": {
      "application/vnd.jupyter.widget-view+json": {
       "model_id": "44dcf57b52ed412a8e8a11aa1385a57c",
       "version_major": 2,
       "version_minor": 0
      },
      "text/plain": [
       "  0%|          | 0/5 [00:00<?, ?it/s]"
      ]
     },
     "metadata": {},
     "output_type": "display_data"
    },
    {
     "data": {
      "application/vnd.jupyter.widget-view+json": {
       "model_id": "077b1fb2f3dc4a389966cabf6b495b2e",
       "version_major": 2,
       "version_minor": 0
      },
      "text/plain": [
       "  0%|          | 0/21 [00:00<?, ?it/s]"
      ]
     },
     "metadata": {},
     "output_type": "display_data"
    }
   ],
   "source": [
    "# Load teams\n",
    "TEAMS = {}\n",
    "for t in tqdm(cached.teams()):\n",
    "    TEAMS[t['name']] = release_notes.get_team(cached, t)\n",
    "\n",
    "team_members = frozenset(chain(*(t.members for t in TEAMS.values())))\n",
    "org_members = frozenset(m['login'] for m in cached.org_members())\n",
    "TEAMS['affiliates'] = release_notes.Team(description=\"Associated with Celeritas but not core members\",\n",
    "                                         members=(org_members - team_members))\n",
    "\n",
    "# Initialize the user cache\n",
    "local_repo = Path(\"/Users/seth/Code/celeritas-temp\")\n",
    "user_cache = release_notes.UserCache(cached, local_repo / \"scripts/release/users.json\")\n",
    "for login in tqdm(org_members):\n",
    "    user_cache[login]"
   ]
  },
  {
   "cell_type": "markdown",
   "id": "9f91dc54",
   "metadata": {},
   "source": [
    "# List active members\n",
    "\n",
    "This is to be used for crediting in presentations, etc."
   ]
  },
  {
   "cell_type": "code",
   "execution_count": 7,
   "id": "e8b6df31",
   "metadata": {},
   "outputs": [
    {
     "data": {
      "text/markdown": [
       "## Code lead\n",
       "- Seth R. Johnson *(ORNL)*\n",
       "\n",
       "## Core members\n",
       "- Elliott Biondo *(ORNL)*\n",
       "- Julien Esseiva *(LBNL)*\n",
       "- Hayden Hollenbeck *(UVA)*\n",
       "- Seth R. Johnson *(ORNL)*\n",
       "- Soon Yung Jun *(FNAL)*\n",
       "- Guilherme Lima *(FNAL)*\n",
       "- Amanda Lund *(ANL)*\n",
       "- Ben Morgan *(U Warwick)*\n",
       "- Sakib Rahman *(BNL)*\n",
       "- Stefano Tognini *(ORNL)*\n",
       "\n",
       "## Core advisors\n",
       "- Philippe Canal *(FNAL)*\n",
       "- Marcel Demarteau *(ORNL)*\n",
       "- Tom Evans *(ORNL)*\n",
       "\n",
       "## Affiliates\n",
       "- Lance Bullerwell *(ORNL)*\n",
       "- Wouter Deconinck *(U Manitoba)*\n",
       "- Sam Eriksen *(U Bristol)*\n",
       "- Steven Hamilton *(ORNL)*\n",
       "- Paul Romano *(ANL)*\n",
       "- Frederic Suter *(ORNL)*\n",
       "- Sandro Wenzel *(CERN)*\n"
      ],
      "text/plain": [
       "<IPython.core.display.Markdown object>"
      ]
     },
     "metadata": {},
     "output_type": "display_data"
    }
   ],
   "source": [
    "text = []\n",
    "for team, title in [\n",
    "    ('code-lead', 'Code lead'),\n",
    "    ('core', 'Core members'),\n",
    "    ('core-advisor', 'Core advisors'),\n",
    "    ('affiliates', 'Affiliates'),]:\n",
    "    text.append(f\"## {title}\")\n",
    "    m = [user_cache[username] for username in TEAMS[team].members]\n",
    "    for member in sorted(m, key=release_notes.get_last_name):\n",
    "        text.append(\"- \" + release_notes.format_user(member))\n",
    "    text.append(\"\")\n",
    "\n",
    "display(Markdown(\"\\n\".join(text)))"
   ]
  },
  {
   "cell_type": "markdown",
   "id": "c4d77c01-d138-43c9-8831-d3449c08eaa3",
   "metadata": {
    "jp-MarkdownHeadingCollapsed": true,
    "tags": []
   },
   "source": [
    "## Release note generation\n",
    "\n",
    "- Merge base should be all commits *already* released (skip documenting)\n",
    "- Target branch is the one where the release candidate is\n",
    "- Previous major branch allows all \"v.x\" contributors to be credited"
   ]
  },
  {
   "cell_type": "code",
   "execution_count": 8,
   "id": "a2dd8a0e",
   "metadata": {},
   "outputs": [
    {
     "name": "stdout",
     "output_type": "stream",
     "text": [
      "Can't match log subject to PR: Format code base (clang-format version 11.0.1)\n"
     ]
    },
    {
     "data": {
      "application/vnd.jupyter.widget-view+json": {
       "model_id": "f53f1b65d9924867acf2e56fbb126780",
       "version_major": 2,
       "version_minor": 0
      },
      "text/plain": [
       "  0%|          | 0/1414 [00:00<?, ?it/s]"
      ]
     },
     "metadata": {},
     "output_type": "display_data"
    },
    {
     "data": {
      "text/plain": [
       "{'sethrj': 840,\n",
       " 'amandalund': 205,\n",
       " 'esseivaju': 88,\n",
       " 'stognini': 48,\n",
       " 'whokion': 46,\n",
       " 'pcanal': 45,\n",
       " 'elliottbiondo': 33,\n",
       " 'mrguilima': 31,\n",
       " 'drbenmorgan': 22,\n",
       " 'paulromano': 15,\n",
       " 'hhollenb': 13,\n",
       " 'vrpascuzzi': 7,\n",
       " 'tmdelellis': 6,\n",
       " 'VHLM2001': 4,\n",
       " 'dalg24': 3,\n",
       " 'lebuller': 3,\n",
       " 'DoaaDeeb': 1,\n",
       " 'aprokop': 1,\n",
       " 'hartsw': 1,\n",
       " 'ptheywood': 1,\n",
       " 'rahmans1': 1}"
      ]
     },
     "execution_count": 8,
     "metadata": {},
     "output_type": "execute_result"
    }
   ],
   "source": [
    "ReleaseMetadata = release_notes.ReleaseMetadata\n",
    "\n",
    "# All commits from all time\n",
    "all_md = ReleaseMetadata(\n",
    "    merge_bases=['v0.0.0'],\n",
    ")\n",
    "\n",
    "all_prs = release_notes.PullRequestRange(all_md)\n",
    "count_contrib = release_notes.ContributionCounter(cached)\n",
    "for pr in tqdm(all_prs.pull_ids):\n",
    "    count_contrib(pr)\n",
    "authors = count_contrib.sorted().author\n",
    "authors"
   ]
  },
  {
   "cell_type": "code",
   "execution_count": 9,
   "id": "d28b7007",
   "metadata": {},
   "outputs": [
    {
     "name": "stdout",
     "output_type": "stream",
     "text": [
      "Missing ORCIDs:\n",
      "@VHLM2001 @DoaaDeeb\n"
     ]
    }
   ],
   "source": [
    "print(\"Missing ORCIDs:\")\n",
    "print(\" \".join(f\"@{u}\" for u in authors if user_cache[u].orcid is None))"
   ]
  },
  {
   "cell_type": "markdown",
   "id": "26f2f43c",
   "metadata": {},
   "source": [
    "## Release"
   ]
  },
  {
   "cell_type": "code",
   "execution_count": 10,
   "id": "316ef327",
   "metadata": {},
   "outputs": [],
   "source": [
    "# Major release\n",
    "major_md = ReleaseMetadata(\n",
    "    release='0.6.0',\n",
    "    merge_bases=['v0.5.0', 'v0.5.2'],\n",
    ")\n",
    "\n",
    "# Minor release\n",
    "minor_md = ReleaseMetadata(\n",
    "    release='0.5.3',\n",
    "    merge_bases=['v0.5.2'],\n",
    "    target_branch='backports/v0.5'\n",
    ")"
   ]
  },
  {
   "cell_type": "code",
   "execution_count": 11,
   "id": "93b2b791",
   "metadata": {},
   "outputs": [],
   "source": [
    "if 1:\n",
    "    # Backport release:\n",
    "    release_md = minor_md\n",
    "    note_body =  \"\"\"\n",
    "Version {release} is a minor update to Celeritas featuring an important physics bugfix\n",
    "to Urban MSC and additional minor fixes targeting CUDA VecGeom compatibility.\n",
    "\"\"\"\n",
    "else:\n",
    "    # Major release\n",
    "    release_md = major_md\n",
    "    note_body = \"\"\"\n",
    "Version {release} is a major update to Celeritas featuring:\n",
    "\n",
    "- \n",
    "\n",
    "A few minor features are noteworthy:\n",
    "\n",
    "- \n",
    "\n",
    "Important changes:\n",
    "\n",
    "- \n",
    "\n",
    "Notable bug fixes include:\n",
    "\n",
    "- \n",
    "\n",
    "Some interfaces have been removed:\n",
    "\n",
    "- \n",
    "\"\"\""
   ]
  },
  {
   "cell_type": "code",
   "execution_count": 12,
   "id": "b82298bb",
   "metadata": {},
   "outputs": [
    {
     "data": {
      "application/vnd.jupyter.widget-view+json": {
       "model_id": "c5e42f6c41694a55bd91691492fc02fc",
       "version_major": 2,
       "version_minor": 0
      },
      "text/plain": [
       "  0%|          | 0/7 [00:00<?, ?it/s]"
      ]
     },
     "metadata": {},
     "output_type": "display_data"
    },
    {
     "data": {
      "application/vnd.jupyter.widget-view+json": {
       "model_id": "366fcdf31daf4bc988e43cee4f29ba14",
       "version_major": 2,
       "version_minor": 0
      },
      "text/plain": [
       "  0%|          | 0/3 [00:00<?, ?it/s]"
      ]
     },
     "metadata": {},
     "output_type": "display_data"
    }
   ],
   "source": [
    "\n",
    "prs = release_notes.PullRequestRange(release_md)\n",
    "sorted_pulls = release_notes.SortedPulls(cached)\n",
    "count_contrib = release_notes.ContributionCounter(cached)\n",
    "for pr_id in tqdm(prs.pull_ids):\n",
    "    try:\n",
    "        count_contrib(pr_id)\n",
    "        sorted_pulls.add(pr_id)\n",
    "    except Exception as e:\n",
    "        print(f\"Error adding PR #{pr_id}: {e}\")\n",
    "\n",
    "reviewers = count_contrib.sorted().reviewer\n",
    "for login in tqdm(reviewers):\n",
    "    user_cache[login]"
   ]
  },
  {
   "cell_type": "code",
   "execution_count": 40,
   "id": "30d0fd33-357a-440a-8e42-5e3550c6f615",
   "metadata": {},
   "outputs": [],
   "source": [
    "def make_notes(cls, release_md, note_body):\n",
    "    prev = release_md.merge_bases[0]\n",
    "    other = release_md.merge_bases[1:]\n",
    "    if not other:\n",
    "        change_str = f\"Changes since {prev} follow.\"\n",
    "    else:\n",
    "        assert len(other) == 1\n",
    "        change_str = f\"Changes since {prev}, excluding those released in {other[0]}, follow.\"\n",
    "\n",
    "    notes = cls(release_md, note_body)\n",
    "    notes.paragraph(change_str)\n",
    "    notes.sorted_pulls(sorted_pulls)\n",
    "    notes.reviewers(reviewers, user_cache)\n",
    "    notes.changelog_line(\"celeritas-project\", \"celeritas\")\n",
    "\n",
    "    return notes"
   ]
  },
  {
   "cell_type": "code",
   "execution_count": null,
   "id": "047b7715",
   "metadata": {},
   "outputs": [],
   "source": [
    "rst_notes = make_notes(release_notes.RstNotes, release_md, note_body)\n",
    "\n",
    "with open_pbcopy() as pb:\n",
    "    rst_notes.write(pb)"
   ]
  },
  {
   "cell_type": "markdown",
   "id": "77cb469c",
   "metadata": {},
   "source": [
    "# Draft github release"
   ]
  },
  {
   "cell_type": "code",
   "execution_count": 30,
   "id": "9dfbcc7e",
   "metadata": {},
   "outputs": [],
   "source": [
    "ghapi = cached.api"
   ]
  },
  {
   "cell_type": "code",
   "execution_count": null,
   "id": "92713f09",
   "metadata": {},
   "outputs": [],
   "source": [
    "markdown_notes = make_notes(release_notes.MarkdownNotes, release_md, note_body)\n"
   ]
  },
  {
   "cell_type": "code",
   "execution_count": 43,
   "id": "642238ba",
   "metadata": {},
   "outputs": [
    {
     "name": "stdout",
     "output_type": "stream",
     "text": [
      "No release found for version: 0.5.3\n",
      "Draft release 0.5.3 created: https://github.com/celeritas-project/celeritas/releases/tag/untagged-3dbf57ae5e31f3508768\n"
     ]
    }
   ],
   "source": [
    "release = release_notes.find_release(ghapi, release_md.release)\n",
    "if not release:\n",
    "    release_md = release_notes.create_release(ghapi, release_md, str(markdown_notes))"
   ]
  },
  {
   "cell_type": "code",
   "execution_count": 45,
   "id": "30b7fde4",
   "metadata": {},
   "outputs": [
    {
     "ename": "TypeError",
     "evalue": "'NoneType' object is not subscriptable",
     "output_type": "error",
     "traceback": [
      "\u001b[31m---------------------------------------------------------------------------\u001b[39m",
      "\u001b[31mTypeError\u001b[39m                                 Traceback (most recent call last)",
      "\u001b[36mCell\u001b[39m\u001b[36m \u001b[39m\u001b[32mIn[45]\u001b[39m\u001b[32m, line 1\u001b[39m\n\u001b[32m----> \u001b[39m\u001b[32m1\u001b[39m artifact_url, artifact_tgz = \u001b[43mrelease_notes\u001b[49m\u001b[43m.\u001b[49m\u001b[43mget_or_upload_tarball\u001b[49m\u001b[43m(\u001b[49m\u001b[43mcached\u001b[49m\u001b[43m,\u001b[49m\u001b[43m \u001b[49m\u001b[43mrelease\u001b[49m\u001b[43m)\u001b[49m\n\u001b[32m      2\u001b[39m \u001b[38;5;28mprint\u001b[39m(\u001b[33mf\u001b[39m\u001b[33m\"\u001b[39m\u001b[33mArtifact URL: \u001b[39m\u001b[38;5;132;01m{\u001b[39;00martifact_url\u001b[38;5;132;01m}\u001b[39;00m\u001b[33m\"\u001b[39m)\n",
      "\u001b[36mFile \u001b[39m\u001b[32m~/Code/release-scripts/release_notes.py:434\u001b[39m, in \u001b[36mget_or_upload_tarball\u001b[39m\u001b[34m(ghapi_cache, release)\u001b[39m\n\u001b[32m    425\u001b[39m \u001b[38;5;28;01mdef\u001b[39;00m\u001b[38;5;250m \u001b[39m\u001b[34mget_or_upload_tarball\u001b[39m(ghapi_cache: GhApiCache, release: \u001b[38;5;28mdict\u001b[39m):\n\u001b[32m    426\u001b[39m \u001b[38;5;250m    \u001b[39m\u001b[33;03m\"\"\"\u001b[39;00m\n\u001b[32m    427\u001b[39m \u001b[33;03m    Manage the release artifact:\u001b[39;00m\n\u001b[32m    428\u001b[39m \u001b[33;03m    - If an artifact is already attached, download it into memory.\u001b[39;00m\n\u001b[32m    429\u001b[39m \u001b[33;03m    - If no artifact is attached, download the release tarball, upload it as an artifact.\u001b[39;00m\n\u001b[32m    430\u001b[39m \n\u001b[32m    431\u001b[39m \u001b[33;03m    Args:\u001b[39;00m\n\u001b[32m    432\u001b[39m \u001b[33;03m        release: GitHub release object\u001b[39;00m\n\u001b[32m    433\u001b[39m \n\u001b[32m--> \u001b[39m\u001b[32m434\u001b[39m \u001b[33;03m    Returns:\u001b[39;00m\n\u001b[32m    435\u001b[39m \u001b[33;03m        Tuple of (browser_download_url, artifact_content)\u001b[39;00m\n\u001b[32m    436\u001b[39m \u001b[33;03m    \"\"\"\u001b[39;00m\n\u001b[32m    437\u001b[39m     \u001b[38;5;66;03m# Check if an artifact is already attached\u001b[39;00m\n\u001b[32m    438\u001b[39m     \u001b[38;5;28;01mif\u001b[39;00m assets := release[\u001b[33m\"\u001b[39m\u001b[33massets\u001b[39m\u001b[33m\"\u001b[39m]:\n",
      "\u001b[31mTypeError\u001b[39m: 'NoneType' object is not subscriptable"
     ]
    }
   ],
   "source": [
    "artifact_url, artifact_tgz = release_notes.get_or_upload_tarball(cached, release)\n",
    "print(f\"Artifact URL: {artifact_url}\")"
   ]
  },
  {
   "cell_type": "code",
   "execution_count": null,
   "id": "30630e2f",
   "metadata": {},
   "outputs": [],
   "source": [
    "#assert 0\n",
    "sha256_hash = hashlib.sha256(artifact_tgz).hexdigest()\n",
    "pyperclip.copy(f'version(\"{release_md.release}\", sha256=\"{sha256_hash}\")')\n",
    "print(\"Spack version copied to clipboard!\")\n",
    "subprocess.check_call(\n",
    "    [\n",
    "        \"open\",\n",
    "        Path(environ[\"SPACK_ROOT\"])\n",
    "        / \"var/spack/repos/builtin/packages/celeritas/package.py\",\n",
    "    ]\n",
    ")"
   ]
  },
  {
   "cell_type": "markdown",
   "id": "14b2a53a-2e70-4c5f-8c01-def2e2f05feb",
   "metadata": {},
   "source": [
    "## TODO: push to zenodo"
   ]
  },
  {
   "cell_type": "code",
   "execution_count": null,
   "id": "e600069e-d609-49e2-88ae-aaf956b22fcf",
   "metadata": {},
   "outputs": [],
   "source": []
  }
 ],
 "metadata": {
  "kernelspec": {
   "display_name": "plotting",
   "language": "python",
   "name": "python3"
  },
  "language_info": {
   "codemirror_mode": {
    "name": "ipython",
    "version": 3
   },
   "file_extension": ".py",
   "mimetype": "text/x-python",
   "name": "python",
   "nbconvert_exporter": "python",
   "pygments_lexer": "ipython3",
   "version": "3.13.3"
  }
 },
 "nbformat": 4,
 "nbformat_minor": 5
}
