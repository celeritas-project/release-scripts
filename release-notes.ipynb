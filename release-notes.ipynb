{
 "cells": [
  {
   "cell_type": "code",
   "execution_count": 1,
   "id": "03360cdc-bc53-4654-b842-8f04d4272dc4",
   "metadata": {},
   "outputs": [],
   "source": [
    "from itertools import chain\n",
    "from pathlib import Path\n",
    "\n",
    "from IPython.display import Markdown, display\n",
    "from tqdm.notebook import tqdm\n",
    "\n",
    "import hashlib\n",
    "from os import environ\n",
    "import pyperclip\n",
    "import subprocess\n",
    "\n",
    "from githelpers import open_pbcopy\n",
    "import ghapicache\n",
    "import release_notes\n",
    "\n",
    "%load_ext autoreload\n",
    "%autoreload 1\n",
    "%aimport githelpers\n",
    "%aimport ghapicache\n",
    "%aimport release_notes"
   ]
  },
  {
   "cell_type": "code",
   "execution_count": 2,
   "id": "fa256c73-ddad-4370-b252-f0c3b4b24baa",
   "metadata": {},
   "outputs": [],
   "source": [
    "cached = ghapicache.GhApiCache()\n",
    "ghapi = cached.api"
   ]
  },
  {
   "cell_type": "code",
   "execution_count": 3,
   "id": "c16ed64d-8f86-481a-a49a-ef61f3f32922",
   "metadata": {},
   "outputs": [
    {
     "data": {
      "application/vnd.jupyter.widget-view+json": {
       "model_id": "63d2e2a898a7479fb46eb346f9ed6a79",
       "version_major": 2,
       "version_minor": 0
      },
      "text/plain": [
       "  0%|          | 0/5 [00:00<?, ?it/s]"
      ]
     },
     "metadata": {},
     "output_type": "display_data"
    },
    {
     "data": {
      "application/vnd.jupyter.widget-view+json": {
       "model_id": "7d37bc6ac60448318a231af830181a2c",
       "version_major": 2,
       "version_minor": 0
      },
      "text/plain": [
       "  0%|          | 0/21 [00:00<?, ?it/s]"
      ]
     },
     "metadata": {},
     "output_type": "display_data"
    }
   ],
   "source": [
    "# Load teams\n",
    "TEAMS = {}\n",
    "for t in tqdm(cached.teams()):\n",
    "    TEAMS[t['name']] = release_notes.get_team(cached, t)\n",
    "\n",
    "team_members = frozenset(chain(*(t.members for t in TEAMS.values())))\n",
    "org_members = frozenset(m['login'] for m in cached.org_members())\n",
    "TEAMS['affiliates'] = release_notes.Team(description=\"Associated with Celeritas but not core members\",\n",
    "                                         members=(org_members - team_members))\n",
    "\n",
    "# Initialize the user cache\n",
    "local_repo = Path(\"/Users/seth/Code/celeritas-temp\")\n",
    "user_cache = release_notes.UserCache(cached, local_repo / \"scripts/release/users.json\")\n",
    "for login in tqdm(org_members):\n",
    "    user_cache[login]"
   ]
  },
  {
   "cell_type": "markdown",
   "id": "9f91dc54",
   "metadata": {},
   "source": [
    "# List active members\n",
    "\n",
    "This is to be used for crediting in presentations, etc."
   ]
  },
  {
   "cell_type": "code",
   "execution_count": 4,
   "id": "e8b6df31",
   "metadata": {},
   "outputs": [
    {
     "data": {
      "text/markdown": [
       "## Code lead\n",
       "- Seth R. Johnson *(ORNL)*\n",
       "\n",
       "## Core members\n",
       "- Elliott Biondo *(ORNL)*\n",
       "- Julien Esseiva *(LBNL)*\n",
       "- Hayden Hollenbeck *(UVA)*\n",
       "- Seth R. Johnson *(ORNL)*\n",
       "- Soon Yung Jun *(FNAL)*\n",
       "- Guilherme Lima *(FNAL)*\n",
       "- Amanda Lund *(ANL)*\n",
       "- Ben Morgan *(U Warwick)*\n",
       "- Sakib Rahman *(BNL)*\n",
       "- Stefano Tognini *(ORNL)*\n",
       "\n",
       "## Core advisors\n",
       "- Philippe Canal *(FNAL)*\n",
       "- Marcel Demarteau *(ORNL)*\n",
       "- Tom Evans *(ORNL)*\n",
       "\n",
       "## Affiliates\n",
       "- Lance Bullerwell *(ORNL)*\n",
       "- Wouter Deconinck *(U Manitoba)*\n",
       "- Sam Eriksen *(U Bristol)*\n",
       "- Steven Hamilton *(ORNL)*\n",
       "- Paul Romano *(ANL)*\n",
       "- Frederic Suter *(ORNL)*\n",
       "- Sandro Wenzel *(CERN)*\n"
      ],
      "text/plain": [
       "<IPython.core.display.Markdown object>"
      ]
     },
     "metadata": {},
     "output_type": "display_data"
    }
   ],
   "source": [
    "text = []\n",
    "for team, title in [\n",
    "    ('code-lead', 'Code lead'),\n",
    "    ('core', 'Core members'),\n",
    "    ('core-advisor', 'Core advisors'),\n",
    "    ('affiliates', 'Affiliates'),]:\n",
    "    text.append(f\"## {title}\")\n",
    "    m = [user_cache[username] for username in TEAMS[team].members]\n",
    "    for member in sorted(m, key=release_notes.get_last_name):\n",
    "        text.append(\"- \" + release_notes.format_user(member))\n",
    "    text.append(\"\")\n",
    "\n",
    "display(Markdown(\"\\n\".join(text)))"
   ]
  },
  {
   "cell_type": "markdown",
   "id": "c4d77c01-d138-43c9-8831-d3449c08eaa3",
   "metadata": {
    "jp-MarkdownHeadingCollapsed": true,
    "tags": []
   },
   "source": [
    "## Release note generation\n",
    "\n",
    "- Merge base should be all commits *already* released (skip documenting)\n",
    "- Target branch is the one where the release candidate is\n",
    "- Previous major branch allows all \"v.x\" contributors to be credited"
   ]
  },
  {
   "cell_type": "code",
   "execution_count": 5,
   "id": "a2dd8a0e",
   "metadata": {},
   "outputs": [
    {
     "name": "stdout",
     "output_type": "stream",
     "text": [
      "Can't match log subject to PR: Format code base (clang-format version 11.0.1)\n"
     ]
    },
    {
     "data": {
      "application/vnd.jupyter.widget-view+json": {
       "model_id": "cb60cca134f3449cb5a10bcfe185a4af",
       "version_major": 2,
       "version_minor": 0
      },
      "text/plain": [
       "  0%|          | 0/1415 [00:00<?, ?it/s]"
      ]
     },
     "metadata": {},
     "output_type": "display_data"
    },
    {
     "data": {
      "text/plain": [
       "{'sethrj': 841,\n",
       " 'amandalund': 205,\n",
       " 'esseivaju': 88,\n",
       " 'stognini': 48,\n",
       " 'whokion': 46,\n",
       " 'pcanal': 45,\n",
       " 'elliottbiondo': 33,\n",
       " 'mrguilima': 31,\n",
       " 'drbenmorgan': 22,\n",
       " 'paulromano': 15,\n",
       " 'hhollenb': 13,\n",
       " 'vrpascuzzi': 7,\n",
       " 'tmdelellis': 6,\n",
       " 'VHLM2001': 4,\n",
       " 'dalg24': 3,\n",
       " 'lebuller': 3,\n",
       " 'DoaaDeeb': 1,\n",
       " 'aprokop': 1,\n",
       " 'hartsw': 1,\n",
       " 'ptheywood': 1,\n",
       " 'rahmans1': 1}"
      ]
     },
     "execution_count": 5,
     "metadata": {},
     "output_type": "execute_result"
    }
   ],
   "source": [
    "ReleaseMetadata = release_notes.ReleaseMetadata\n",
    "\n",
    "# All commits from all time\n",
    "all_md = ReleaseMetadata(\n",
    "    merge_bases=['v0.0.0'],\n",
    ")\n",
    "\n",
    "all_prs = release_notes.PullRequestRange(all_md)\n",
    "count_contrib = release_notes.ContributionCounter(cached)\n",
    "for pr in tqdm(all_prs.pull_ids):\n",
    "    count_contrib(pr)\n",
    "authors = count_contrib.sorted().author\n",
    "authors"
   ]
  },
  {
   "cell_type": "code",
   "execution_count": 6,
   "id": "d28b7007",
   "metadata": {},
   "outputs": [
    {
     "name": "stdout",
     "output_type": "stream",
     "text": [
      "Missing ORCIDs:\n",
      "@VHLM2001 @DoaaDeeb\n"
     ]
    }
   ],
   "source": [
    "print(\"Missing ORCIDs:\")\n",
    "print(\" \".join(f\"@{u}\" for u in authors if user_cache[u].orcid is None))"
   ]
  },
  {
   "cell_type": "markdown",
   "id": "26f2f43c",
   "metadata": {},
   "source": [
    "## Release"
   ]
  },
  {
   "cell_type": "code",
   "execution_count": 7,
   "id": "316ef327",
   "metadata": {},
   "outputs": [],
   "source": [
    "# Major release\n",
    "major_md = ReleaseMetadata(\n",
    "    release='0.6.0',\n",
    "    merge_bases=['v0.5.0', 'v0.5.2'],\n",
    ")\n",
    "\n",
    "# Minor release\n",
    "minor_md = ReleaseMetadata(\n",
    "    release='0.5.3',\n",
    "    merge_bases=['v0.5.2'],\n",
    "    target_branch='backports/v0.5'\n",
    ")"
   ]
  },
  {
   "cell_type": "code",
   "execution_count": 8,
   "id": "93b2b791",
   "metadata": {},
   "outputs": [],
   "source": [
    "if 1:\n",
    "    # Backport release:\n",
    "    release_md = minor_md\n",
    "    note_body =  \"\"\"\n",
    "Version {release} is a minor update to Celeritas featuring an important physics bugfix\n",
    "to Urban MSC and additional minor fixes targeting CUDA VecGeom compatibility.\n",
    "\"\"\"\n",
    "else:\n",
    "    # Major release\n",
    "    release_md = major_md\n",
    "    note_body = \"\"\"\n",
    "Version {release} is a major update to Celeritas featuring:\n",
    "\n",
    "- \n",
    "\n",
    "A few minor features are noteworthy:\n",
    "\n",
    "- \n",
    "\n",
    "Important changes:\n",
    "\n",
    "- \n",
    "\n",
    "Notable bug fixes include:\n",
    "\n",
    "- \n",
    "\n",
    "Some interfaces have been removed:\n",
    "\n",
    "- \n",
    "\"\"\""
   ]
  },
  {
   "cell_type": "code",
   "execution_count": 9,
   "id": "b82298bb",
   "metadata": {},
   "outputs": [
    {
     "data": {
      "application/vnd.jupyter.widget-view+json": {
       "model_id": "10ca9a5a574641c2af0ba1b1f7b39565",
       "version_major": 2,
       "version_minor": 0
      },
      "text/plain": [
       "  0%|          | 0/8 [00:00<?, ?it/s]"
      ]
     },
     "metadata": {},
     "output_type": "display_data"
    },
    {
     "data": {
      "application/vnd.jupyter.widget-view+json": {
       "model_id": "84da87dc64ab42db81fbb7b69d822d2e",
       "version_major": 2,
       "version_minor": 0
      },
      "text/plain": [
       "  0%|          | 0/3 [00:00<?, ?it/s]"
      ]
     },
     "metadata": {},
     "output_type": "display_data"
    }
   ],
   "source": [
    "\n",
    "prs = release_notes.PullRequestRange(release_md)\n",
    "sorted_pulls = release_notes.SortedPulls(cached)\n",
    "count_contrib = release_notes.ContributionCounter(cached)\n",
    "for pr_id in tqdm(prs.pull_ids):\n",
    "    try:\n",
    "        count_contrib(pr_id)\n",
    "        sorted_pulls.add(pr_id)\n",
    "    except Exception as e:\n",
    "        print(f\"Error adding PR #{pr_id}: {e}\")\n",
    "\n",
    "reviewers = count_contrib.sorted().reviewer\n",
    "for login in tqdm(reviewers):\n",
    "    user_cache[login]"
   ]
  },
  {
   "cell_type": "code",
   "execution_count": 10,
   "id": "30d0fd33-357a-440a-8e42-5e3550c6f615",
   "metadata": {},
   "outputs": [],
   "source": [
    "def make_notes(cls, release_md, note_body):\n",
    "    prev = release_md.merge_bases[0]\n",
    "    other = release_md.merge_bases[1:]\n",
    "    if not other:\n",
    "        change_str = f\"Changes since {prev} follow.\"\n",
    "    else:\n",
    "        assert len(other) == 1\n",
    "        change_str = f\"Changes since {prev}, excluding those released in {other[0]}, follow.\"\n",
    "\n",
    "    notes = cls(release_md, note_body)\n",
    "    notes.paragraph(change_str)\n",
    "    notes.sorted_pulls(sorted_pulls)\n",
    "    notes.reviewers(reviewers, user_cache)\n",
    "    notes.changelog_line(\"celeritas-project\", \"celeritas\")\n",
    "\n",
    "    return notes"
   ]
  },
  {
   "cell_type": "code",
   "execution_count": 11,
   "id": "047b7715",
   "metadata": {},
   "outputs": [],
   "source": [
    "rst_notes = make_notes(release_notes.RstNotes, release_md, note_body)\n",
    "\n",
    "with open_pbcopy() as pb:\n",
    "    rst_notes.write(pb)"
   ]
  },
  {
   "cell_type": "markdown",
   "id": "77cb469c",
   "metadata": {},
   "source": [
    "# Draft github release"
   ]
  },
  {
   "cell_type": "code",
   "execution_count": 12,
   "id": "9dfbcc7e",
   "metadata": {},
   "outputs": [],
   "source": [
    "ghapi = cached.api"
   ]
  },
  {
   "cell_type": "code",
   "execution_count": 13,
   "id": "92713f09",
   "metadata": {},
   "outputs": [],
   "source": [
    "markdown_notes = make_notes(release_notes.MarkdownNotes, release_md, note_body)\n"
   ]
  },
  {
   "cell_type": "code",
   "execution_count": null,
   "id": "642238ba",
   "metadata": {},
   "outputs": [],
   "source": [
    "gh_release = release_notes.find_release(ghapi, release_md.release)\n",
    "if not gh_release:\n",
    "    gh_release = release_notes.create_release(ghapi, release_md, str(markdown_notes))"
   ]
  },
  {
   "cell_type": "code",
   "execution_count": null,
   "id": "30b7fde4",
   "metadata": {},
   "outputs": [
    {
     "name": "stdout",
     "output_type": "stream",
     "text": [
      "Downloading release tarball\n",
      "Loading https://api.github.com/repos/celeritas-project/celeritas/tarball/v0.5.3 from cached file data/ghapicache-downloads/443893a0ecbd8acfbcc3e97630efd70a32cbfa86.3\n",
      "Uploading release tarball\n",
      "Uploaded artifact: https://github.com/celeritas-project/celeritas/releases/download/v0.5.3/release-v0.5.3.tar.gz\n",
      "Artifact URL: https://github.com/celeritas-project/celeritas/releases/download/v0.5.3/release-v0.5.3.tar.gz\n"
     ]
    }
   ],
   "source": [
    "artifact_url, artifact_tgz = release_notes.get_or_upload_tarball(cached, gh_release)\n",
    "print(f\"Artifact URL: {artifact_url}\")"
   ]
  },
  {
   "cell_type": "code",
   "execution_count": 25,
   "id": "30630e2f",
   "metadata": {},
   "outputs": [
    {
     "name": "stdout",
     "output_type": "stream",
     "text": [
      "Spack version copied to clipboard!\n"
     ]
    },
    {
     "data": {
      "text/plain": [
       "0"
      ]
     },
     "execution_count": 25,
     "metadata": {},
     "output_type": "execute_result"
    }
   ],
   "source": [
    "#assert 0\n",
    "sha256_hash = hashlib.sha256(artifact_tgz).hexdigest()\n",
    "with open_pbcopy() as pb:\n",
    "    pb.write(f'version(\"{release_md.release}\", sha256=\"{sha256_hash}\")\\n')\n",
    "print(\"Spack version copied to clipboard!\")\n",
    "subprocess.check_call(\n",
    "    [\n",
    "        \"open\",\n",
    "        Path(environ[\"SPACK_ROOT\"])\n",
    "        / \"var/spack/repos/builtin/packages/celeritas/package.py\",\n",
    "    ]\n",
    ")"
   ]
  },
  {
   "cell_type": "markdown",
   "id": "14b2a53a-2e70-4c5f-8c01-def2e2f05feb",
   "metadata": {},
   "source": [
    "# Push to zenodo"
   ]
  },
  {
   "cell_type": "code",
   "execution_count": 26,
   "id": "1df5c94a",
   "metadata": {},
   "outputs": [],
   "source": [
    "import zenodoapi\n",
    "%aimport zenodoapi"
   ]
  },
  {
   "cell_type": "code",
   "execution_count": 27,
   "id": "a6bd63ad",
   "metadata": {},
   "outputs": [],
   "source": [
    "# Load the Zenodo token\n",
    "token_path = Path.home() / \".config/zenodo-token\"\n",
    "with open(token_path) as f:\n",
    "    zenodo_token = f.read().strip()\n",
    "\n",
    "zenodo = zenodoapi.Zenodo(zenodo_token)\n",
    "zenodo.api_url = \"https://zenodo.org/api/\""
   ]
  },
  {
   "cell_type": "code",
   "execution_count": 40,
   "id": "5e22c6c1",
   "metadata": {},
   "outputs": [],
   "source": [
    "def load_contributions(release_md):\n",
    "    prs = release_notes.PullRequestRange(release_md)\n",
    "    count_contrib = release_notes.ContributionCounter(cached)\n",
    "    for pr in tqdm(prs.pull_ids):\n",
    "        count_contrib(pr)\n",
    "\n",
    "    # Create author list\n",
    "    return count_contrib.sorted()\n",
    "\n",
    "def download_tarball(gh_release):\n",
    "    asset = gh_release['assets'][0]\n",
    "    name = asset['name']\n",
    "    content = cached.download_file(asset['url'], ext=Path(name).suffix)\n",
    "    assert content is not None\n",
    "    return (content, name)\n",
    "\n",
    "make_zenodo_md = release_notes.ZenodoMetadataBuilder(user_cache=user_cache, teams=TEAMS)"
   ]
  },
  {
   "cell_type": "markdown",
   "id": "0288b220",
   "metadata": {},
   "source": [
    "## Minor release\n",
    "\n",
    "This assumes the major release has already been published upstream into Zenodo."
   ]
  },
  {
   "cell_type": "code",
   "execution_count": 39,
   "id": "a9ec1ecb",
   "metadata": {},
   "outputs": [],
   "source": [
    "major, minor, patch = release_md.release.split('.')\n",
    "release_md = release_notes.ReleaseMetadata.from_comprehensive_version(minor, patch)\n",
    "major_dep = zenodo.find_deposition(f\"Celeritas {major}.{minor}\")"
   ]
  },
  {
   "cell_type": "code",
   "execution_count": 50,
   "id": "0ac0482b",
   "metadata": {},
   "outputs": [
    {
     "data": {
      "text/plain": [
       "{'self': 'https://zenodo.org/api/records/15177269',\n",
       " 'html': 'https://zenodo.org/records/15177269',\n",
       " 'doi': 'https://doi.org/10.5281/zenodo.15177269',\n",
       " 'parent_doi': 'https://doi.org/10.5281/zenodo.15175891',\n",
       " 'badge': 'https://zenodo.org/badge/doi/10.5281%2Fzenodo.15177269.svg',\n",
       " 'conceptbadge': 'https://zenodo.org/badge/doi/10.5281%2Fzenodo.15175891.svg',\n",
       " 'files': 'https://zenodo.org/api/records/15177269/files',\n",
       " 'latest_draft': 'https://zenodo.org/api/deposit/depositions/15177269',\n",
       " 'latest_draft_html': 'https://zenodo.org/deposit/15177269',\n",
       " 'publish': 'https://zenodo.org/api/deposit/depositions/15177269/actions/publish',\n",
       " 'edit': 'https://zenodo.org/api/deposit/depositions/15177269/actions/edit',\n",
       " 'discard': 'https://zenodo.org/api/deposit/depositions/15177269/actions/discard',\n",
       " 'newversion': 'https://zenodo.org/api/deposit/depositions/15177269/actions/newversion',\n",
       " 'registerconceptdoi': 'https://zenodo.org/api/deposit/depositions/15177269/actions/registerconceptdoi',\n",
       " 'record': 'https://zenodo.org/api/records/15177269',\n",
       " 'record_html': 'https://zenodo.org/record/15177269',\n",
       " 'latest': 'https://zenodo.org/api/records/15177269/versions/latest',\n",
       " 'latest_html': 'https://zenodo.org/record/15177269/versions/latest'}"
      ]
     },
     "execution_count": 50,
     "metadata": {},
     "output_type": "execute_result"
    }
   ],
   "source": [
    "major_dep.links"
   ]
  },
  {
   "cell_type": "code",
   "execution_count": 47,
   "id": "08b3465b",
   "metadata": {},
   "outputs": [
    {
     "data": {
      "text/plain": [
       "ZenodoDeposition(id=15177269, title=\"Celeritas 0.5\")"
      ]
     },
     "execution_count": 47,
     "metadata": {},
     "output_type": "execute_result"
    }
   ],
   "source": [
    "zenodo.get_deposition(major_dep.get_latest_version().id)"
   ]
  },
  {
   "cell_type": "code",
   "execution_count": 44,
   "id": "63c98a75",
   "metadata": {},
   "outputs": [],
   "source": [
    "gh_release = release_notes.find_release(ghapi, release_md.release)"
   ]
  },
  {
   "cell_type": "code",
   "execution_count": null,
   "id": "6ee3bdba",
   "metadata": {},
   "outputs": [
    {
     "name": "stdout",
     "output_type": "stream",
     "text": [
      "Can't match log subject to PR: Define BuildFlags dependency helper target\n",
      "Can't match log subject to PR: Print cmake version\n",
      "Can't match log subject to PR: Extracts from 582256d4f\n",
      "Can't match log subject to PR: Update workflows from 245c2edea\n"
     ]
    },
    {
     "data": {
      "application/vnd.jupyter.widget-view+json": {
       "model_id": "b7c53e07618943d3b2112c20864fac2d",
       "version_major": 2,
       "version_minor": 0
      },
      "text/plain": [
       "  0%|          | 0/405 [00:00<?, ?it/s]"
      ]
     },
     "metadata": {},
     "output_type": "display_data"
    },
    {
     "name": "stdout",
     "output_type": "stream",
     "text": [
      "Draft may already exist\n"
     ]
    },
    {
     "ename": "HTTPError",
     "evalue": "500 Server Error: INTERNAL SERVER ERROR for url: https://zenodo.org/api/records/15177269?access_token=qyBwFLjLS4COh2W1KA8EzIKpOgpNC7LXTkTagCYi4QtQ5zaxYzaVNL6TZx0n",
     "output_type": "error",
     "traceback": [
      "\u001b[31m---------------------------------------------------------------------------\u001b[39m",
      "\u001b[31mHTTPError\u001b[39m                                 Traceback (most recent call last)",
      "\u001b[36mCell\u001b[39m\u001b[36m \u001b[39m\u001b[32mIn[57]\u001b[39m\u001b[32m, line 31\u001b[39m\n\u001b[32m     29\u001b[39m     \u001b[38;5;28;01melse\u001b[39;00m:\n\u001b[32m     30\u001b[39m         \u001b[38;5;28;01mraise\u001b[39;00m\n\u001b[32m---> \u001b[39m\u001b[32m31\u001b[39m \u001b[43mnew_vers\u001b[49m\u001b[43m.\u001b[49m\u001b[43mupdate\u001b[49m\u001b[43m(\u001b[49m\u001b[43mnew_md\u001b[49m\u001b[43m)\u001b[49m\n\u001b[32m     32\u001b[39m \u001b[38;5;66;03m# Upload the release\u001b[39;00m\n\u001b[32m     33\u001b[39m (content, name) = download_tarball(gh_release)\n",
      "\u001b[36mFile \u001b[39m\u001b[32m~/Code/release-scripts/zenodoapi.py:248\u001b[39m, in \u001b[36mZenodoDeposition.update\u001b[39m\u001b[34m(self, metadata)\u001b[39m\n\u001b[32m    242\u001b[39m \u001b[38;5;28;01mdef\u001b[39;00m\u001b[38;5;250m \u001b[39m\u001b[34mupdate\u001b[39m(\u001b[38;5;28mself\u001b[39m, metadata: Dict[\u001b[38;5;28mstr\u001b[39m, Any]) -> \u001b[38;5;28;01mNone\u001b[39;00m:\n\u001b[32m    243\u001b[39m \u001b[38;5;250m    \u001b[39m\u001b[33;03m\"\"\"Update this deposition's metadata.\u001b[39;00m\n\u001b[32m    244\u001b[39m \n\u001b[32m    245\u001b[39m \u001b[33;03m    Args:\u001b[39;00m\n\u001b[32m    246\u001b[39m \u001b[33;03m        metadata: New metadata\u001b[39;00m\n\u001b[32m    247\u001b[39m \u001b[33;03m    \"\"\"\u001b[39;00m\n\u001b[32m--> \u001b[39m\u001b[32m248\u001b[39m     \u001b[38;5;28mself\u001b[39m.data = \u001b[38;5;28;43mself\u001b[39;49m\u001b[43m.\u001b[49m\u001b[43mclient\u001b[49m\u001b[43m.\u001b[49m\u001b[43mrequest\u001b[49m\u001b[43m(\u001b[49m\n\u001b[32m    249\u001b[39m \u001b[43m        \u001b[49m\u001b[43mrequests\u001b[49m\u001b[43m.\u001b[49m\u001b[43mput\u001b[49m\u001b[43m,\u001b[49m\n\u001b[32m    250\u001b[39m \u001b[43m        \u001b[49m\u001b[38;5;28;43mself\u001b[39;49m\u001b[43m.\u001b[49m\u001b[43mlinks\u001b[49m\u001b[43m[\u001b[49m\u001b[33;43m\"\u001b[39;49m\u001b[33;43mself\u001b[39;49m\u001b[33;43m\"\u001b[39;49m\u001b[43m]\u001b[49m\u001b[43m,\u001b[49m\n\u001b[32m    251\u001b[39m \u001b[43m        \u001b[49m\u001b[43mjson\u001b[49m\u001b[43m=\u001b[49m\u001b[43m{\u001b[49m\u001b[33;43m\"\u001b[39;49m\u001b[33;43mmetadata\u001b[39;49m\u001b[33;43m\"\u001b[39;49m\u001b[43m:\u001b[49m\u001b[43m \u001b[49m\u001b[43mmetadata\u001b[49m\u001b[43m}\u001b[49m\u001b[43m,\u001b[49m\n\u001b[32m    252\u001b[39m \u001b[43m    \u001b[49m\u001b[43m)\u001b[49m\n\u001b[32m    253\u001b[39m     \u001b[38;5;28mprint\u001b[39m(\u001b[33mf\u001b[39m\u001b[33m\"\u001b[39m\u001b[33mUpdated deposition at \u001b[39m\u001b[38;5;132;01m{\u001b[39;00m\u001b[38;5;28mself\u001b[39m.html\u001b[38;5;132;01m}\u001b[39;00m\u001b[33m : \u001b[39m\u001b[38;5;132;01m{\u001b[39;00m\u001b[38;5;28mself\u001b[39m.data[\u001b[33m'\u001b[39m\u001b[33mmetadata\u001b[39m\u001b[33m'\u001b[39m][\u001b[33m'\u001b[39m\u001b[33mtitle\u001b[39m\u001b[33m'\u001b[39m]\u001b[38;5;132;01m}\u001b[39;00m\u001b[33m\"\u001b[39m)\n",
      "\u001b[36mFile \u001b[39m\u001b[32m~/Code/release-scripts/zenodoapi.py:45\u001b[39m, in \u001b[36mZenodo.request\u001b[39m\u001b[34m(self, func, params, *args, **kwargs)\u001b[39m\n\u001b[32m     43\u001b[39m     params = \u001b[38;5;28mself\u001b[39m.params\n\u001b[32m     44\u001b[39m r = func(*args, params=params, **kwargs)\n\u001b[32m---> \u001b[39m\u001b[32m45\u001b[39m \u001b[43mr\u001b[49m\u001b[43m.\u001b[49m\u001b[43mraise_for_status\u001b[49m\u001b[43m(\u001b[49m\u001b[43m)\u001b[49m\n\u001b[32m     46\u001b[39m \u001b[38;5;28;01mreturn\u001b[39;00m r.json()\n",
      "\u001b[36mFile \u001b[39m\u001b[32m/opt/homebrew/anaconda3/envs/plotting/lib/python3.13/site-packages/requests/models.py:1024\u001b[39m, in \u001b[36mResponse.raise_for_status\u001b[39m\u001b[34m(self)\u001b[39m\n\u001b[32m   1019\u001b[39m     http_error_msg = (\n\u001b[32m   1020\u001b[39m         \u001b[33mf\u001b[39m\u001b[33m\"\u001b[39m\u001b[38;5;132;01m{\u001b[39;00m\u001b[38;5;28mself\u001b[39m.status_code\u001b[38;5;132;01m}\u001b[39;00m\u001b[33m Server Error: \u001b[39m\u001b[38;5;132;01m{\u001b[39;00mreason\u001b[38;5;132;01m}\u001b[39;00m\u001b[33m for url: \u001b[39m\u001b[38;5;132;01m{\u001b[39;00m\u001b[38;5;28mself\u001b[39m.url\u001b[38;5;132;01m}\u001b[39;00m\u001b[33m\"\u001b[39m\n\u001b[32m   1021\u001b[39m     )\n\u001b[32m   1023\u001b[39m \u001b[38;5;28;01mif\u001b[39;00m http_error_msg:\n\u001b[32m-> \u001b[39m\u001b[32m1024\u001b[39m     \u001b[38;5;28;01mraise\u001b[39;00m HTTPError(http_error_msg, response=\u001b[38;5;28mself\u001b[39m)\n",
      "\u001b[31mHTTPError\u001b[39m: 500 Server Error: INTERNAL SERVER ERROR for url: https://zenodo.org/api/records/15177269?access_token=qyBwFLjLS4COh2W1KA8EzIKpOgpNC7LXTkTagCYi4QtQ5zaxYzaVNL6TZx0n"
     ]
    }
   ],
   "source": [
    "# Get the Zenodo metadata    \n",
    "from requests import HTTPError\n",
    "\n",
    "\n",
    "old_md = major_dep.data[\"metadata\"]\n",
    "new_md = make_zenodo_md(load_contributions(release_md), release_md, gh_release)\n",
    "# Only update editors, not team members\n",
    "old_contrib = new_md[\"contributors\"]\n",
    "new_contrib = [u for u in old_contrib if u[\"type\"] == \"Editor\"]\n",
    "old_contrib = [u for u in old_contrib if u[\"type\"] != \"Editor\"]\n",
    "new_md[\"contributors\"] = new_contrib + old_contrib\n",
    "# Don't change the title\n",
    "new_md[\"title\"] = major_dep.data[\"metadata\"][\"title\"]\n",
    "# Add the body\n",
    "new_md[\"description\"] = \"\\n\\n\".join(\n",
    "    [\n",
    "        old_md[\"description\"],\n",
    "        f\"<h1>Version {release_md.release}</h1>\",\n",
    "        new_md[\"description\"],\n",
    "    ]\n",
    ")\n",
    "try:\n",
    "    new_vers = major_dep.create_new_version()\n",
    "except HTTPError as e:\n",
    "    # Maybe the version already exists\n",
    "    if e.response.status_code == 400:\n",
    "        print(\"Draft may already exist:\", e)\n",
    "        new_vers = major_dep.get_latest_draft()\n",
    "    else:\n",
    "        raise\n",
    "try:\n",
    "    new_vers.update(new_md)\n",
    "except HTTPError as e:\n",
    "    # Something else went wrong? Try to upload the tarball\n",
    "        print(\"Draft may already exist:\", e)\n",
    "\n",
    "# Upload the release\n",
    "(content, name) = download_tarball(gh_release)\n",
    "new_vers.upload(content, name)\n",
    "# The old tarball may still be there (this is buggy) so delete it\n",
    "new_vers.refresh()\n",
    "for file in new_vers.get_files():\n",
    "    if file.filename != name:\n",
    "        try:\n",
    "            file.delete()\n",
    "        except Exception as e:\n",
    "            print(f\"Failed to delete {file.filename}: {e}\")\n",
    "new_vers.refresh()"
   ]
  }
 ],
 "metadata": {
  "kernelspec": {
   "display_name": "plotting",
   "language": "python",
   "name": "python3"
  },
  "language_info": {
   "codemirror_mode": {
    "name": "ipython",
    "version": 3
   },
   "file_extension": ".py",
   "mimetype": "text/x-python",
   "name": "python",
   "nbconvert_exporter": "python",
   "pygments_lexer": "ipython3",
   "version": "3.13.3"
  }
 },
 "nbformat": 4,
 "nbformat_minor": 5
}
