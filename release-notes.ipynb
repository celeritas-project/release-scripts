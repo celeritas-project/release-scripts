{
 "cells": [
  {
   "cell_type": "code",
   "execution_count": 1,
   "id": "03360cdc-bc53-4654-b842-8f04d4272dc4",
   "metadata": {},
   "outputs": [],
   "source": [
    "from itertools import chain\n",
    "from pathlib import Path\n",
    "\n",
    "from IPython.display import Markdown, display\n",
    "from tqdm.notebook import tqdm\n",
    "\n",
    "import hashlib\n",
    "from os import environ\n",
    "import subprocess\n",
    "\n",
    "import githelpers\n",
    "import ghapicache\n",
    "import release_notes\n",
    "\n",
    "%load_ext autoreload\n",
    "%autoreload 1\n",
    "%aimport githelpers\n",
    "%aimport ghapicache\n",
    "%aimport release_notes"
   ]
  },
  {
   "cell_type": "code",
   "execution_count": 2,
   "id": "fa256c73-ddad-4370-b252-f0c3b4b24baa",
   "metadata": {},
   "outputs": [],
   "source": [
    "cached = ghapicache.GhApiCache(repo=\"celeritas\")\n",
    "ghapi = cached.api\n",
    "# cached.purge()"
   ]
  },
  {
   "cell_type": "code",
   "execution_count": 3,
   "id": "c16ed64d-8f86-481a-a49a-ef61f3f32922",
   "metadata": {},
   "outputs": [
    {
     "data": {
      "application/vnd.jupyter.widget-view+json": {
       "model_id": "73ef11e75184402f8f839b9b76bbd1b1",
       "version_major": 2,
       "version_minor": 0
      },
      "text/plain": [
       "  0%|          | 0/5 [00:00<?, ?it/s]"
      ]
     },
     "metadata": {},
     "output_type": "display_data"
    },
    {
     "data": {
      "application/vnd.jupyter.widget-view+json": {
       "model_id": "db344776d25e4a239ddb48bdc3489731",
       "version_major": 2,
       "version_minor": 0
      },
      "text/plain": [
       "  0%|          | 0/22 [00:00<?, ?it/s]"
      ]
     },
     "metadata": {},
     "output_type": "display_data"
    }
   ],
   "source": [
    "# Load teams\n",
    "TEAMS = {}\n",
    "for t in tqdm(cached.teams()):\n",
    "    TEAMS[t['name']] = release_notes.get_team(cached, t)\n",
    "\n",
    "team_members = frozenset(chain(*(t.members for t in TEAMS.values())))\n",
    "org_members = frozenset(m['login'] for m in cached.org_members())\n",
    "TEAMS['affiliates'] = release_notes.Team(description=\"Associated with Celeritas but not core members\",\n",
    "                                         members=(org_members - team_members))\n",
    "\n",
    "# Initialize the user cache\n",
    "local_repo = Path(\"/Users/seth/Code/celeritas-temp\")\n",
    "user_cache = release_notes.UserCache(cached, local_repo / \"scripts/release/users.json\")\n",
    "for login in tqdm(org_members):\n",
    "    user_cache[login]"
   ]
  },
  {
   "cell_type": "markdown",
   "id": "9f91dc54",
   "metadata": {},
   "source": [
    "# List active members\n",
    "\n",
    "This is to be used for crediting in presentations, etc."
   ]
  },
  {
   "cell_type": "code",
   "execution_count": 4,
   "id": "e8b6df31",
   "metadata": {},
   "outputs": [
    {
     "data": {
      "text/markdown": [
       "## Code lead\n",
       "- Seth R. Johnson *(ORNL)*\n",
       "\n",
       "## Core members\n",
       "- Elliott Biondo *(ORNL)*\n",
       "- Julien Esseiva *(LBNL)*\n",
       "- Hayden Hollenbeck *(UVA)*\n",
       "- Seth R. Johnson *(ORNL)*\n",
       "- Soon Yung Jun *(FNAL)*\n",
       "- Guilherme Lima *(FNAL)*\n",
       "- Amanda Lund *(ANL)*\n",
       "- Ben Morgan *(U Warwick)*\n",
       "- Sakib Rahman *(BNL)*\n",
       "- Stefano Tognini *(ORNL)*\n",
       "\n",
       "## Core advisors\n",
       "- Philippe Canal *(FNAL)*\n",
       "- Marcel Demarteau *(ORNL)*\n",
       "- Tom Evans *(ORNL)*\n",
       "\n",
       "## Affiliates\n",
       "- Lance Bullerwell *(ORNL)*\n",
       "- Wouter Deconinck *(U Manitoba)*\n",
       "- Sam Eriksen *(U Bristol)*\n",
       "- Steven Hamilton *(ORNL)*\n",
       "- Kevin Pedro *(None)*\n",
       "- Paul Romano *(ANL)*\n",
       "- Frederic Suter *(ORNL)*\n",
       "- Sandro Wenzel *(CERN)*\n"
      ],
      "text/plain": [
       "<IPython.core.display.Markdown object>"
      ]
     },
     "metadata": {},
     "output_type": "display_data"
    }
   ],
   "source": [
    "text = []\n",
    "for team, title in [\n",
    "    ('code-lead', 'Code lead'),\n",
    "    ('core', 'Core members'),\n",
    "    ('core-advisor', 'Core advisors'),\n",
    "    ('affiliates', 'Affiliates'),]:\n",
    "    text.append(f\"## {title}\")\n",
    "    m = [user_cache[username] for username in TEAMS[team].members]\n",
    "    for member in sorted(m, key=release_notes.get_last_name):\n",
    "        text.append(\"- \" + release_notes.format_user(member))\n",
    "    text.append(\"\")\n",
    "\n",
    "display(Markdown(\"\\n\".join(text)))"
   ]
  },
  {
   "cell_type": "markdown",
   "id": "c4d77c01-d138-43c9-8831-d3449c08eaa3",
   "metadata": {
    "jp-MarkdownHeadingCollapsed": true,
    "tags": []
   },
   "source": [
    "## Release note generation\n",
    "\n",
    "- Merge base should be all commits *already* released (skip documenting)\n",
    "- Target branch is the one where the release candidate is\n",
    "- Previous major branch allows all \"v.x\" contributors to be credited"
   ]
  },
  {
   "cell_type": "code",
   "execution_count": 5,
   "id": "a2dd8a0e",
   "metadata": {},
   "outputs": [
    {
     "name": "stdout",
     "output_type": "stream",
     "text": [
      "Can't match log subject to PR: Format code base (clang-format version 11.0.1)\n"
     ]
    },
    {
     "data": {
      "application/vnd.jupyter.widget-view+json": {
       "model_id": "82f32dc784f343ff847491ff99fa850e",
       "version_major": 2,
       "version_minor": 0
      },
      "text/plain": [
       "  0%|          | 0/1576 [00:00<?, ?it/s]"
      ]
     },
     "metadata": {},
     "output_type": "display_data"
    },
    {
     "data": {
      "text/plain": [
       "{'sethrj': 922,\n",
       " 'amandalund': 247,\n",
       " 'esseivaju': 99,\n",
       " 'stognini': 51,\n",
       " 'pcanal': 48,\n",
       " 'whokion': 46,\n",
       " 'elliottbiondo': 43,\n",
       " 'mrguilima': 31,\n",
       " 'drbenmorgan': 23,\n",
       " 'hhollenb': 18,\n",
       " 'paulromano': 15,\n",
       " 'vrpascuzzi': 7,\n",
       " 'tmdelellis': 6,\n",
       " 'VHLM2001': 4,\n",
       " 'lebuller': 4,\n",
       " 'Rashika-Gupta': 4,\n",
       " 'dalg24': 3,\n",
       " 'DoaaDeeb': 1,\n",
       " 'aprokop': 1,\n",
       " 'hartsw': 1,\n",
       " 'ptheywood': 1,\n",
       " 'rahmans1': 1}"
      ]
     },
     "execution_count": 5,
     "metadata": {},
     "output_type": "execute_result"
    }
   ],
   "source": [
    "ReleaseMetadata = release_notes.ReleaseMetadata\n",
    "\n",
    "# All commits from all time\n",
    "all_md = ReleaseMetadata(\n",
    "    merge_bases=['v0.0.0'],\n",
    ")\n",
    "\n",
    "all_prs = release_notes.PullRequestRange(all_md)\n",
    "count_contrib = release_notes.ContributionCounter(cached)\n",
    "for pr in tqdm(all_prs.pull_ids):\n",
    "    count_contrib(pr)\n",
    "authors = count_contrib.sorted().author\n",
    "authors"
   ]
  },
  {
   "cell_type": "code",
   "execution_count": 6,
   "id": "d28b7007",
   "metadata": {},
   "outputs": [
    {
     "name": "stdout",
     "output_type": "stream",
     "text": [
      "Missing ORCIDs:\n",
      "@VHLM2001 @Rashika-Gupta @DoaaDeeb\n"
     ]
    }
   ],
   "source": [
    "print(\"Missing ORCIDs:\")\n",
    "print(\" \".join(f\"@{u}\" for u in authors if user_cache[u].orcid is None))"
   ]
  },
  {
   "cell_type": "code",
   "execution_count": 7,
   "id": "0bccec2b",
   "metadata": {},
   "outputs": [
    {
     "name": "stdout",
     "output_type": "stream",
     "text": [
      "Saved cache to: data/ghapicache-celeritas-project-celeritas.json\n"
     ]
    }
   ],
   "source": [
    "cached.flush()"
   ]
  },
  {
   "cell_type": "markdown",
   "id": "26f2f43c",
   "metadata": {},
   "source": [
    "## Release"
   ]
  },
  {
   "cell_type": "code",
   "execution_count": 10,
   "id": "316ef327",
   "metadata": {},
   "outputs": [],
   "source": [
    "# Major release\n",
    "major_md = release_notes.ReleaseMetadata(\n",
    "    release='0.6.0',\n",
    "    merge_bases=['v0.5.0', 'v0.5.3'],\n",
    "    target_branch='develop'\n",
    ")\n",
    "\n",
    "# Minor release\n",
    "minor_md = release_notes.ReleaseMetadata(\n",
    "    release='0.6.1',\n",
    "    merge_bases=['v0.6.0'],\n",
    "    target_branch='backports/v0.6'\n",
    ")"
   ]
  },
  {
   "cell_type": "code",
   "execution_count": 11,
   "id": "93b2b791",
   "metadata": {},
   "outputs": [],
   "source": [
    "if 1:\n",
    "    # Backport release:\n",
    "    release_md = minor_md\n",
    "    note_body =  \"\"\"\n",
    "Version {release} is a minor capability and bug fix update. Geant4-to-ORANGE\n",
    "conversion has gained new abilities including:\n",
    "\n",
    "- Support for reflection\n",
    "- Support for replicated and parameterized volumes\n",
    "- New shapes including G4ExtrudedSolid, G4GenericPolycone, G4Paraboloid,\n",
    "  polar-truncated sphere\n",
    "- Fixes and improvements to deduplication of general quadric surfaces such as\n",
    "  twisted trap faces and ellipsoids\n",
    "\n",
    "Geant4 integration has improved with:\n",
    "\n",
    "- Automatic generation of field maps from in-memory G4Field\n",
    "- Track IDs are now reconstructed when returning hits to Geant4\n",
    "- Track weights are propagated through Celeritas and returned to Geant4\n",
    "- Additional data members are reconstructed in hit track/steps to reduce null\n",
    "  pointers\n",
    "- G4VTrackUserInfo and G4VProcess are reconstructed as valid (but not\n",
    "  necessarily meaningful) pointers\n",
    "\n",
    "Code compatibility improvements include:\n",
    "\n",
    "- Support for CUDA 12.9 and NVCC with cxxstd=20\n",
    "- Changes to allow GCC's overzealous ``-Wmissing-braces`` (#1863) used by CMSSW\n",
    "- Fixes to include-what-you-use errors that failed newer compilers/c++ libs\n",
    "- Support for CMake ``find_package(Celeritas)`` multiple times (still\n",
    "  discouraged though)\n",
    "- Allow multiple runs when using GPU\n",
    "- Improved compatibility for Geant4 10\n",
    "- Improved use of environment variables (now the *value* of ``CELER_DISABLE``\n",
    "  and others are considered, not just their existence)\n",
    "\n",
    "\"\"\"\n",
    "else:\n",
    "    # Major release\n",
    "    release_md = major_md\n",
    "    note_body = \"\"\"\n",
    "Version {release} is a major update to Celeritas featuring:\n",
    "\n",
    "-\n",
    "\n",
    "A few minor features are noteworthy:\n",
    "\n",
    "- \n",
    "\n",
    "Notable bug fixes include:\n",
    "\n",
    "- \n",
    "\n",
    "Some interfaces have been removed:\n",
    "\n",
    "- \n",
    "\n",
    "Known deficiencies:\n",
    "\n",
    "- \n",
    "\"\"\""
   ]
  },
  {
   "cell_type": "code",
   "execution_count": 13,
   "id": "b82298bb",
   "metadata": {},
   "outputs": [
    {
     "data": {
      "application/vnd.jupyter.widget-view+json": {
       "model_id": "c8d63e729a824f6cbedec018141f0bcc",
       "version_major": 2,
       "version_minor": 0
      },
      "text/plain": [
       "  0%|          | 0/111 [00:00<?, ?it/s]"
      ]
     },
     "metadata": {},
     "output_type": "display_data"
    },
    {
     "data": {
      "application/vnd.jupyter.widget-view+json": {
       "model_id": "8c32cb754d914efcb9296a6e12248c3d",
       "version_major": 2,
       "version_minor": 0
      },
      "text/plain": [
       "  0%|          | 0/12 [00:00<?, ?it/s]"
      ]
     },
     "metadata": {},
     "output_type": "display_data"
    }
   ],
   "source": [
    "prs = release_notes.PullRequestRange(release_md)\n",
    "sorted_pulls = release_notes.SortedPulls(cached)\n",
    "count_contrib = release_notes.ContributionCounter(cached)\n",
    "for pr_id in tqdm(prs.pull_ids):\n",
    "    try:\n",
    "        count_contrib(pr_id)\n",
    "        sorted_pulls.add(pr_id)\n",
    "    except Exception as e:\n",
    "        print(f\"Error adding PR #{pr_id}: {e}\")\n",
    "        del cached.cache[\"pull\"][cached.subkey(pr_id)]\n",
    "\n",
    "reviewers = count_contrib.sorted().reviewer\n",
    "for login in tqdm(reviewers):\n",
    "    user_cache[login]"
   ]
  },
  {
   "cell_type": "code",
   "execution_count": 14,
   "id": "30d0fd33-357a-440a-8e42-5e3550c6f615",
   "metadata": {},
   "outputs": [],
   "source": [
    "def make_notes(cls, release_md, note_body):\n",
    "    prev = release_md.merge_bases[0]\n",
    "    other = release_md.merge_bases[1:]\n",
    "    if not other:\n",
    "        change_str = f\"Changes since {prev} follow.\"\n",
    "    else:\n",
    "        # NOTE: this is redundant if prev is a merge base of other\n",
    "        assert len(other) == 1\n",
    "        change_str = f\"Changes since {prev}, excluding those released in {other[0]}, follow.\"\n",
    "\n",
    "    notes = cls(release_md, note_body)\n",
    "    notes.paragraph(change_str)\n",
    "    notes.sorted_pulls(sorted_pulls)\n",
    "    notes.reviewers(reviewers, user_cache)\n",
    "    notes.changelog_line(\"celeritas-project\", \"celeritas\")\n",
    "\n",
    "    return notes"
   ]
  },
  {
   "cell_type": "code",
   "execution_count": 15,
   "id": "047b7715",
   "metadata": {},
   "outputs": [
    {
     "name": "stdout",
     "output_type": "stream",
     "text": [
      "Release notes copied to clipboard\n"
     ]
    },
    {
     "data": {
      "text/plain": [
       "CompletedProcess(args=['open', '/Users/seth/Code/celeritas-temp/doc/release-history'], returncode=0)"
      ]
     },
     "execution_count": 15,
     "metadata": {},
     "output_type": "execute_result"
    }
   ],
   "source": [
    "rst_notes = make_notes(release_notes.RstNotes, release_md, note_body)\n",
    "\n",
    "with githelpers.open_pbcopy() as pb:\n",
    "    rst_notes.write(pb)\n",
    "\n",
    "print(\"Release notes copied to clipboard\")\n",
    "subprocess.run([\"open\", str(githelpers.REPO / \"doc/release-history\")])"
   ]
  },
  {
   "cell_type": "markdown",
   "id": "77cb469c",
   "metadata": {},
   "source": [
    "# Draft github release"
   ]
  },
  {
   "cell_type": "code",
   "execution_count": 20,
   "id": "642238ba",
   "metadata": {},
   "outputs": [],
   "source": [
    "ghapi = cached.api\n",
    "\n",
    "markdown_notes = make_notes(release_notes.MarkdownNotes, release_md, note_body)\n",
    "\n",
    "gh_release = release_notes.find_release(ghapi, release_md.release)\n",
    "if not gh_release:\n",
    "    gh_release = release_notes.create_release(ghapi, release_md, str(markdown_notes))"
   ]
  },
  {
   "cell_type": "code",
   "execution_count": 22,
   "id": "30b7fde4",
   "metadata": {},
   "outputs": [
    {
     "name": "stdout",
     "output_type": "stream",
     "text": [
      "No tarball found in release assets: reloading from GitHub\n",
      "Loading https://github.com/celeritas-project/celeritas/releases/download/v0.6.1/celeritas-0.6.1.tar.gz from cached file data/ghapicache-downloads/36423d209583dcabdde7651f28c370e25aaf62c0.gz\n",
      "Found tarball in release assets\n",
      "Artifact URL: https://github.com/celeritas-project/celeritas/releases/download/v0.6.1/celeritas-0.6.1.tar.gz\n"
     ]
    }
   ],
   "source": [
    "tarball = release_notes.get_or_upload_tarball(cached, gh_release)\n",
    "print(f\"Artifact URL: {tarball.url}\")"
   ]
  },
  {
   "cell_type": "code",
   "execution_count": 23,
   "id": "30630e2f",
   "metadata": {},
   "outputs": [
    {
     "name": "stdout",
     "output_type": "stream",
     "text": [
      "Spack version copied to clipboard!\n"
     ]
    },
    {
     "data": {
      "text/plain": [
       "0"
      ]
     },
     "execution_count": 23,
     "metadata": {},
     "output_type": "execute_result"
    }
   ],
   "source": [
    "# assert 0\n",
    "sha256_hash = hashlib.sha256(tarball.content).hexdigest()\n",
    "with githelpers.open_pbcopy() as pb:\n",
    "    pb.write(f'version(\"{release_md.release}\", sha256=\"{sha256_hash}\")\\n')\n",
    "print(\"Spack version copied to clipboard!\")\n",
    "spack = Path(environ[\"SPACK_ROOT\"]) / \"bin\" / \"spack\"\n",
    "package_dir = Path(\n",
    "    subprocess.check_output([spack, \"location\", \"-p\", cached.repo]).decode().strip()\n",
    ")\n",
    "subprocess.check_call([\"open\", package_dir / \"package.py\"])"
   ]
  },
  {
   "cell_type": "markdown",
   "id": "14b2a53a-2e70-4c5f-8c01-def2e2f05feb",
   "metadata": {},
   "source": [
    "# Push to zenodo"
   ]
  },
  {
   "cell_type": "code",
   "execution_count": 24,
   "id": "1df5c94a",
   "metadata": {},
   "outputs": [],
   "source": [
    "import zenodoapi\n",
    "%aimport zenodoapi"
   ]
  },
  {
   "cell_type": "code",
   "execution_count": 25,
   "id": "a6bd63ad",
   "metadata": {},
   "outputs": [],
   "source": [
    "# Load the Zenodo token\n",
    "token_path = Path.home() / \".config/zenodo-token\"\n",
    "with open(token_path) as f:\n",
    "    zenodo_token = f.read().strip()\n",
    "\n",
    "zenodo = zenodoapi.Zenodo(zenodo_token)\n",
    "zenodo.api_url = \"https://zenodo.org/api/\""
   ]
  },
  {
   "cell_type": "code",
   "execution_count": 26,
   "id": "5e22c6c1",
   "metadata": {},
   "outputs": [],
   "source": [
    "def load_contributions(release_md):\n",
    "    prs = release_notes.PullRequestRange(release_md)\n",
    "    count_contrib = release_notes.ContributionCounter(cached)\n",
    "    for pr in tqdm(prs.pull_ids):\n",
    "        count_contrib(pr)\n",
    "\n",
    "    # Create author list\n",
    "    return count_contrib.sorted()\n",
    "\n",
    "def download_tarball(gh_release):\n",
    "    asset = gh_release['assets'][0]\n",
    "    name = asset['name']\n",
    "    content = cached.download_file(asset['url'], ext=Path(name).suffix)\n",
    "    assert content is not None\n",
    "    return (content, name)\n",
    "\n",
    "make_zenodo_md = release_notes.ZenodoMetadataBuilder(user_cache=user_cache, teams=TEAMS)"
   ]
  },
  {
   "cell_type": "markdown",
   "id": "0288b220",
   "metadata": {},
   "source": [
    "## Minor release\n",
    "\n",
    "This assumes the major release has already been published upstream into Zenodo."
   ]
  },
  {
   "cell_type": "code",
   "execution_count": 27,
   "id": "a9ec1ecb",
   "metadata": {},
   "outputs": [],
   "source": [
    "assert not release_md.is_major()\n",
    "major, minor, patch = release_md.as_version()\n",
    "release_md = release_notes.ReleaseMetadata.from_comprehensive_version(minor, patch)\n",
    "major_dep = zenodo.find_deposition(f\"Celeritas {major}.{minor}\")"
   ]
  },
  {
   "cell_type": "code",
   "execution_count": 28,
   "id": "08b3465b",
   "metadata": {},
   "outputs": [
    {
     "data": {
      "text/plain": [
       "ZenodoDeposition(id=15281110, title=\"Celeritas 0.6\")"
      ]
     },
     "execution_count": 28,
     "metadata": {},
     "output_type": "execute_result"
    }
   ],
   "source": [
    "zenodo.get_deposition(major_dep.get_latest_version().id)"
   ]
  },
  {
   "cell_type": "code",
   "execution_count": 29,
   "id": "63c98a75",
   "metadata": {},
   "outputs": [],
   "source": [
    "gh_release = release_notes.find_release(ghapi, release_md.release)"
   ]
  },
  {
   "cell_type": "code",
   "execution_count": 31,
   "id": "6ee3bdba",
   "metadata": {},
   "outputs": [
    {
     "name": "stdout",
     "output_type": "stream",
     "text": [
      "Can't match log subject to PR: Write setup Geant4 log messages to world logger, not self logger\n"
     ]
    },
    {
     "data": {
      "application/vnd.jupyter.widget-view+json": {
       "model_id": "9d38b4783d4d4fd0b2f5e353e90ce184",
       "version_major": 2,
       "version_minor": 0
      },
      "text/plain": [
       "  0%|          | 0/347 [00:00<?, ?it/s]"
      ]
     },
     "metadata": {},
     "output_type": "display_data"
    },
    {
     "name": "stdout",
     "output_type": "stream",
     "text": [
      "Created new version 17114294: https://zenodo.org/deposit/17114294\n",
      "Updated deposition at https://zenodo.org/deposit/17114294 : Celeritas 0.6\n",
      "Downloading https://api.github.com/repos/celeritas-project/celeritas/releases/assets/292897908\n",
      "Uploaded celeritas-0.6.1.tar.gz: version 01ffac04-7d92-4303-9b16-42fd041f0fe4\n",
      "Failed to delete celeritas-0.6.0.tar.gz: Expecting value: line 1 column 1 (char 0)\n"
     ]
    },
    {
     "data": {
      "text/plain": [
       "ZenodoDeposition(id=17114294, title=\"Celeritas 0.6\")"
      ]
     },
     "execution_count": 31,
     "metadata": {},
     "output_type": "execute_result"
    }
   ],
   "source": [
    "# Get the Zenodo metadata    \n",
    "from requests import HTTPError\n",
    "\n",
    "\n",
    "old_md = major_dep.data[\"metadata\"]\n",
    "new_md = make_zenodo_md(load_contributions(release_md), release_md, gh_release)\n",
    "# Only update editors, not team members\n",
    "old_contrib = new_md[\"contributors\"]\n",
    "new_contrib = [u for u in old_contrib if u[\"type\"] == \"Editor\"]\n",
    "old_contrib = [u for u in old_contrib if u[\"type\"] != \"Editor\"]\n",
    "new_md[\"contributors\"] = new_contrib + old_contrib\n",
    "# Don't change the title\n",
    "new_md[\"title\"] = major_dep.data[\"metadata\"][\"title\"]\n",
    "# Add the body\n",
    "new_md[\"description\"] = \"\\n\\n\".join(\n",
    "    [\n",
    "        old_md[\"description\"],\n",
    "        f\"<h1>Version {release_md.release}</h1>\",\n",
    "        new_md[\"description\"],\n",
    "    ]\n",
    ")\n",
    "try:\n",
    "    new_vers = major_dep.create_new_version()\n",
    "except HTTPError as e:\n",
    "    # Maybe the version already exists\n",
    "    if e.response.status_code == 400:\n",
    "        print(\"Draft may already exist:\", e)\n",
    "        new_vers = major_dep.get_latest_draft()\n",
    "    else:\n",
    "        raise\n",
    "try:\n",
    "    new_vers.update(new_md)\n",
    "except HTTPError as e:\n",
    "    # Something else went wrong? Try to upload the tarball\n",
    "        print(\"Draft may already exist:\", e)\n",
    "\n",
    "# Upload the release\n",
    "(content, name) = download_tarball(gh_release)\n",
    "new_vers.upload(content, name)\n",
    "# The old tarball may still be there (this is buggy) so delete it\n",
    "new_vers.refresh()\n",
    "for file in new_vers.get_files():\n",
    "    if file.filename != name:\n",
    "        try:\n",
    "            file.delete()\n",
    "        except Exception as e:\n",
    "            print(f\"Failed to delete {file.filename}: {e}\")\n",
    "new_vers.refresh()"
   ]
  },
  {
   "cell_type": "markdown",
   "id": "44330c4f",
   "metadata": {},
   "source": [
    "## Major release"
   ]
  },
  {
   "cell_type": "code",
   "execution_count": 57,
   "id": "84f797ce",
   "metadata": {},
   "outputs": [],
   "source": [
    "assert release_md.is_major()\n",
    "major, minor, patch = release_md.as_version()\n",
    "release_md = release_notes.ReleaseMetadata.from_comprehensive_version(minor)\n",
    "title = f\"Celeritas {major}.{minor}\""
   ]
  },
  {
   "cell_type": "code",
   "execution_count": 58,
   "id": "b6eda840",
   "metadata": {},
   "outputs": [
    {
     "data": {
      "application/vnd.jupyter.widget-view+json": {
       "model_id": "170fbe86935a495b897e34643e0325ec",
       "version_major": 2,
       "version_minor": 0
      },
      "text/plain": [
       "  0%|          | 0/234 [00:00<?, ?it/s]"
      ]
     },
     "metadata": {},
     "output_type": "display_data"
    },
    {
     "name": "stdout",
     "output_type": "stream",
     "text": [
      "Created deposition 15281110 at https://zenodo.org/deposit/15281110 : Celeritas 0.6\n"
     ]
    }
   ],
   "source": [
    "zmd = make_zenodo_md(load_contributions(release_md), release_md, gh_release)\n",
    "zmd[\"title\"] = title\n",
    "\n",
    "# Create the Zenodo deposition\n",
    "deposition = zenodo.create_deposition(zmd)"
   ]
  },
  {
   "cell_type": "code",
   "execution_count": 60,
   "id": "fc93420b",
   "metadata": {},
   "outputs": [
    {
     "name": "stdout",
     "output_type": "stream",
     "text": [
      "Uploaded celeritas-0.6.0.tar.gz: version bbd63016-30a1-4be9-9a74-329ca975bed9\n",
      "https://zenodo.org/deposit/15281110\n",
      "\n",
      "IMPORTANT Checklist:\n",
      "- Add community (CANNOT be done later)\n",
      "- Update contributors based on release date\n",
      "- Update licenses\n",
      "\n"
     ]
    }
   ],
   "source": [
    "# Upload the release tarball\n",
    "deposition.upload(artifact_tgz, f\"celeritas-{release_md.release}.tar.gz\")\n",
    "\n",
    "print(deposition.html)\n",
    "print(\"\"\"\n",
    "IMPORTANT Checklist:\n",
    "- Add community (CANNOT be done later)\n",
    "- Update contributors based on release date\n",
    "- Update licenses\n",
    "\"\"\")"
   ]
  },
  {
   "cell_type": "code",
   "execution_count": null,
   "id": "5ed6280d",
   "metadata": {},
   "outputs": [],
   "source": []
  }
 ],
 "metadata": {
  "kernelspec": {
   "display_name": "plotting",
   "language": "python",
   "name": "python3"
  },
  "language_info": {
   "codemirror_mode": {
    "name": "ipython",
    "version": 3
   },
   "file_extension": ".py",
   "mimetype": "text/x-python",
   "name": "python",
   "nbconvert_exporter": "python",
   "pygments_lexer": "ipython3",
   "version": "3.13.3"
  }
 },
 "nbformat": 4,
 "nbformat_minor": 5
}
