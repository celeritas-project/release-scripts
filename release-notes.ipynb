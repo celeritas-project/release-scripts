{
 "cells": [
  {
   "cell_type": "code",
   "execution_count": null,
   "id": "03360cdc-bc53-4654-b842-8f04d4272dc4",
   "metadata": {},
   "outputs": [],
   "source": [
    "import io\n",
    "import re\n",
    "import json\n",
    "from datetime import datetime\n",
    "from collections import defaultdict, namedtuple\n",
    "from pathlib import Path\n",
    "from ghapi.all import gh2date\n",
    "\n",
    "from IPython.display import Markdown, display\n",
    "from tqdm.notebook import tqdm\n",
    "from markdown import markdown\n",
    "\n",
    "import hashlib\n",
    "from os import environ\n",
    "import pyperclip\n",
    "import subprocess\n",
    "import requests\n",
    "\n",
    "import githelpers\n",
    "import ghapicache\n",
    "import release_notes\n",
    "\n",
    "%load_ext autoreload\n",
    "%autoreload 1\n",
    "%aimport githelpers\n",
    "%aimport ghapicache\n",
    "%aimport release_notes"
   ]
  },
  {
   "cell_type": "code",
   "execution_count": null,
   "id": "fa256c73-ddad-4370-b252-f0c3b4b24baa",
   "metadata": {},
   "outputs": [],
   "source": [
    "cached = ghapicache.GhApiCache()\n",
    "ghapi = cached.api"
   ]
  },
  {
   "cell_type": "code",
   "execution_count": null,
   "id": "c16ed64d-8f86-481a-a49a-ef61f3f32922",
   "metadata": {},
   "outputs": [],
   "source": [
    "# Load teams\n",
    "TEAMS = {}\n",
    "for t in tqdm(cached.teams()):\n",
    "    TEAMS[t['name']] = release_notes.get_team(cached, t)\n",
    "\n",
    "team_members = frozenset(chain(*(t.members for t in TEAMS.values())))\n",
    "org_members = frozenset(m['login'] for m in cached.org_members())\n",
    "TEAMS['affiliates'] = release_notes.Team(description=\"Associated with Celeritas but not core members\",\n",
    "                                         members=(org_members - team_members))\n",
    "\n",
    "# Initialize the user cache\n",
    "local_repo = Path(\"/Users/seth/Code/celeritas-temp\")\n",
    "user_cache = release_notes.UserCache(cached, local_repo / \"scripts/release/users.json\")\n",
    "for login in tqdm(org_members):\n",
    "    user_cache[login]"
   ]
  },
  {
   "cell_type": "markdown",
   "id": "9f91dc54",
   "metadata": {},
   "source": [
    "# List active members\n",
    "\n",
    "This is to be used for crediting in presentations, etc."
   ]
  },
  {
   "cell_type": "code",
   "execution_count": null,
   "id": "e8b6df31",
   "metadata": {},
   "outputs": [],
   "source": [
    "text = []\n",
    "for team, title in [\n",
    "    ('code-lead', 'Code lead'),\n",
    "    ('core', 'Core members'),\n",
    "    ('core-advisor', 'Core advisors'),\n",
    "    ('affiliates', 'Affiliates'),]:\n",
    "    text.append(f\"## {title}\")\n",
    "    m = [user_cache[username] for username in TEAMS[team].members]\n",
    "    for member in sorted(m, key=release_notes.get_last_name):\n",
    "        text.append(\"- \" + release_notes.format_user(member))\n",
    "    text.append(\"\")\n",
    "\n",
    "display(Markdown(\"\\n\".join(text)))"
   ]
  },
  {
   "cell_type": "markdown",
   "id": "c4d77c01-d138-43c9-8831-d3449c08eaa3",
   "metadata": {
    "jp-MarkdownHeadingCollapsed": true,
    "tags": []
   },
   "source": [
    "## Release note generation\n",
    "\n",
    "- Merge base should be all commits *already* released (skip documenting)\n",
    "- Target branch is the one where the release candidate is\n",
    "- Previous major branch allows all \"v.x\" contributors to be credited"
   ]
  },
  {
   "cell_type": "code",
   "execution_count": null,
   "id": "a2dd8a0e",
   "metadata": {},
   "outputs": [],
   "source": [
    "ReleaseMetadata = release_notes.ReleaseMetadata\n",
    "\n",
    "# All commits from all time\n",
    "all_md = ReleaseMetadata(\n",
    "    merge_bases=['v0.0.0'],\n",
    ")\n",
    "\n",
    "all_prs = release_notes.PullRequestRange(all_md)\n",
    "count_contrib = release_notes.ContributionCounter(cached)\n",
    "for pr in tqdm(all_prs.pull_ids):\n",
    "    count_contrib(pr)\n",
    "authors = count_contrib.sorted().author\n",
    "authors"
   ]
  },
  {
   "cell_type": "code",
   "execution_count": null,
   "id": "d28b7007",
   "metadata": {},
   "outputs": [],
   "source": [
    "print(\"Missing ORCIDs:\")\n",
    "print(\" \".join(f\"@{u}\" for u in authors if user_cache[u].orcid is None))"
   ]
  },
  {
   "cell_type": "markdown",
   "id": "26f2f43c",
   "metadata": {},
   "source": [
    "## Release"
   ]
  },
  {
   "cell_type": "code",
   "execution_count": null,
   "id": "316ef327",
   "metadata": {},
   "outputs": [],
   "source": [
    "# Major release\n",
    "major_md = ReleaseMetadata(\n",
    "    release='0.6.0',\n",
    "    merge_bases=['v0.5.0', 'v0.5.2'],\n",
    ")\n",
    "\n",
    "# Minor release\n",
    "minor_md = ReleaseMetadata(\n",
    "    release='0.5.3',\n",
    "    merge_bases=['v0.5.2'],\n",
    "    target_branch='backports/v0.5'\n",
    ")"
   ]
  },
  {
   "cell_type": "code",
   "execution_count": null,
   "id": "93b2b791",
   "metadata": {},
   "outputs": [],
   "source": [
    "if 0:\n",
    "    # Backport release:\n",
    "    release_md = minor_md\n",
    "    note_body =  \"\"\"\n",
    "Version {release} is a minor update to Celeritas featuring improved diagnostic\n",
    "output, improved CMake integration for VecGeom+CUDA, and several bug fixes.\n",
    "\"\"\"\n",
    "else:\n",
    "    # Major release\n",
    "    release_md = major_md\n",
    "    note_body = \"\"\"\n",
    "Version {release} is a major update to Celeritas featuring:\n",
    "\n",
    "- \n",
    "\n",
    "A few minor features are noteworthy:\n",
    "\n",
    "- \n",
    "\n",
    "Important changes:\n",
    "\n",
    "- \n",
    "\n",
    "Notable bug fixes include:\n",
    "\n",
    "- \n",
    "\n",
    "Some interfaces have been removed:\n",
    "\n",
    "- \n",
    "\"\"\""
   ]
  },
  {
   "cell_type": "code",
   "execution_count": null,
   "id": "1ad6426e",
   "metadata": {},
   "outputs": [],
   "source": [
    "\n",
    "prs = release_notes.PullRequestRange(release_md)\n",
    "sorted_pulls = release_notes.SortedPulls(cached)\n",
    "count_contrib = release_notes.ContributionCounter(cached)\n",
    "for pr_id in tqdm(prs.pull_ids):\n",
    "    try:\n",
    "        count_contrib(pr_id)\n",
    "        sorted_pulls.add(pr_id)\n",
    "    except Exception as e:\n",
    "        print(f\"Error adding PR #{pr_id}: {e}\")\n",
    "\n",
    "reviewers = count_contrib.sorted().reviewer\n",
    "for login in tqdm(reviewers):\n",
    "    user_cache[login]"
   ]
  },
  {
   "cell_type": "code",
   "execution_count": null,
   "id": "30d0fd33-357a-440a-8e42-5e3550c6f615",
   "metadata": {},
   "outputs": [],
   "source": [
    "\n",
    "prev = release_md.merge_bases[0]\n",
    "other = release_md.merge_bases[1:]\n",
    "if not other:\n",
    "    change_str = f\"Changes since {prev} follow.\"\n",
    "else:\n",
    "    assert len(other) == 1\n",
    "    change_str = f\"Changes since {prev}, excluding those released in {other[0]}, follow.\"\n",
    "\n",
    "\n",
    "notes = release_notes.MarkdownNotes(release_md, note_body)\n",
    "notes.paragraph(change_str)\n",
    "notes.sorted_pulls(sorted_pulls)\n",
    "notes.reviewers(reviewers, user_cache)\n",
    "notes.changelog_line(\"celeritas-project\", \"celeritas\")"
   ]
  },
  {
   "cell_type": "code",
   "execution_count": null,
   "id": "047b7715",
   "metadata": {},
   "outputs": [],
   "source": [
    "import sys\n",
    "notes.write(sys.stdout)"
   ]
  },
  {
   "cell_type": "markdown",
   "id": "77cb469c",
   "metadata": {},
   "source": [
    "# Draft github release"
   ]
  },
  {
   "cell_type": "code",
   "execution_count": null,
   "id": "9dfbcc7e",
   "metadata": {},
   "outputs": [],
   "source": [
    "ghapi = cached.api"
   ]
  },
  {
   "cell_type": "code",
   "execution_count": null,
   "id": "642238ba",
   "metadata": {},
   "outputs": [],
   "source": [
    "release = release_notes.find_release(release_md.version)\n",
    "if not release:\n",
    "    release_md = release_notes.create_release(release_md, notes)"
   ]
  },
  {
   "cell_type": "code",
   "execution_count": null,
   "id": "30b7fde4",
   "metadata": {},
   "outputs": [],
   "source": [
    "artifact_url, artifact_tgz = release_notes.get_or_upload_tarball(release)\n",
    "print(f\"Artifact URL: {artifact_url}\")"
   ]
  },
  {
   "cell_type": "code",
   "execution_count": null,
   "id": "30630e2f",
   "metadata": {},
   "outputs": [],
   "source": [
    "#assert 0\n",
    "sha256_hash = hashlib.sha256(artifact_tgz).hexdigest()\n",
    "pyperclip.copy(f'version(\"{release_md.release}\", sha256=\"{sha256_hash}\")')\n",
    "print(\"Spack version copied to clipboard!\")\n",
    "subprocess.check_call(\n",
    "    [\n",
    "        \"open\",\n",
    "        Path(environ[\"SPACK_ROOT\"])\n",
    "        / \"var/spack/repos/builtin/packages/celeritas/package.py\",\n",
    "    ]\n",
    ")"
   ]
  },
  {
   "cell_type": "markdown",
   "id": "14b2a53a-2e70-4c5f-8c01-def2e2f05feb",
   "metadata": {},
   "source": [
    "## TODO: push to zenodo"
   ]
  },
  {
   "cell_type": "code",
   "execution_count": null,
   "id": "e600069e-d609-49e2-88ae-aaf956b22fcf",
   "metadata": {},
   "outputs": [],
   "source": []
  }
 ],
 "metadata": {
  "kernelspec": {
   "display_name": "Python 3 (ipykernel)",
   "language": "python",
   "name": "python3"
  },
  "language_info": {
   "codemirror_mode": {
    "name": "ipython",
    "version": 3
   },
   "file_extension": ".py",
   "mimetype": "text/x-python",
   "name": "python",
   "nbconvert_exporter": "python",
   "pygments_lexer": "ipython3",
   "version": "3.12.6"
  }
 },
 "nbformat": 4,
 "nbformat_minor": 5
}
