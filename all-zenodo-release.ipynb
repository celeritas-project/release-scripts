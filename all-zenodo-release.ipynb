{
 "cells": [
  {
   "cell_type": "code",
   "execution_count": null,
   "id": "03360cdc-bc53-4654-b842-8f04d4272dc4",
   "metadata": {},
   "outputs": [],
   "source": [
    "import re\n",
    "from collections import defaultdict\n",
    "from pathlib import Path\n",
    "\n",
    "from tqdm.notebook import tqdm\n",
    "from itertools import chain\n",
    "\n",
    "import githelpers\n",
    "import ghapicache\n",
    "import release_notes\n",
    "\n",
    "%load_ext autoreload\n",
    "%autoreload 1\n",
    "%aimport githelpers\n",
    "%aimport ghapicache\n",
    "%aimport release_notes"
   ]
  },
  {
   "cell_type": "code",
   "execution_count": null,
   "id": "fa256c73-ddad-4370-b252-f0c3b4b24baa",
   "metadata": {},
   "outputs": [],
   "source": [
    "cached = ghapicache.GhApiCache()\n",
    "ghapi = cached.api"
   ]
  },
  {
   "cell_type": "code",
   "execution_count": null,
   "id": "d1a3ed76-aab5-464e-ba67-83a84b371bae",
   "metadata": {},
   "outputs": [],
   "source": [
    "# Load teams\n",
    "TEAMS = {}\n",
    "for t in tqdm(cached.teams()):\n",
    "    TEAMS[t['name']] = release_notes.get_team(cached, t)\n",
    "\n",
    "team_members = frozenset(chain(*(t.members for t in TEAMS.values())))\n",
    "org_members = frozenset(m['login'] for m in cached.org_members())\n",
    "TEAMS['affiliates'] = release_notes.Team(description=\"Associated with Celeritas but not core members\",\n",
    "                                         members=(org_members - team_members))\n",
    "\n",
    "# Initialize the user cache\n",
    "local_repo = Path(\"/Users/seth/Code/celeritas-temp\")\n",
    "user_cache = release_notes.UserCache(cached, local_repo / \"scripts/release/users.json\")\n",
    "for login in tqdm(org_members):\n",
    "    user_cache[login]"
   ]
  },
  {
   "cell_type": "code",
   "execution_count": null,
   "id": "b8843898",
   "metadata": {},
   "outputs": [],
   "source": [
    "all_tags = githelpers.git(\"tag\", \"--list\")\n",
    "\n",
    "# Filter tags matching the version pattern v(a.b.c) and extract the decimal component\n",
    "#re_version = re.compile(r\"^v(\\d+\\.\\d+\\.\\d+)$\")\n",
    "re_version = re.compile(r\"^v(\\d+\\.\\d+\\.\\d+)$\")\n",
    "version_tuples = [tuple(int(v) for v in m.group(1).split('.')) for tag in all_tags\n",
    "                   if (m := re_version.match(tag))]\n",
    "#versions = [m.group(1) for tag in all_tags if (m := re_version.match(tag))]\n",
    "# print(versions)\n",
    "\n",
    "grouped_versions = defaultdict(list)\n",
    "for major, minor, patch in version_tuples:\n",
    "    grouped_versions[(major, minor)].append(patch)\n",
    "grouped_versions.pop((0, 0), None)  # Remove the initial version (0.0.0)\n",
    "# Find the last patch release for each minor release\n",
    "last_version = {key: max(patches) for key, patches in grouped_versions.items()}"
   ]
  },
  {
   "cell_type": "markdown",
   "id": "2b254304",
   "metadata": {},
   "source": [
    "# Zenodo release\n",
    "\n",
    "- All versions should list contributors since the initial last major release.\n",
    "- Team members should be edited at the first release, then they'll be copied later."
   ]
  },
  {
   "cell_type": "code",
   "execution_count": null,
   "id": "f7d3c2bf",
   "metadata": {},
   "outputs": [],
   "source": [
    "def new_series(major):\n",
    "    patch = 0\n",
    "    release = f\"0.{major}\"\n",
    "    return release_notes.ReleaseMetadata(\n",
    "        release=release,\n",
    "        merge_bases=[f\"v0.{major - 1}.0\"],\n",
    "        target_branch=f\"v{release}.{patch}\",\n",
    "    )\n",
    "\n",
    "\n",
    "def new_version(major, patch):\n",
    "    release = f\"0.{major}.{patch}\"\n",
    "    prev_patch = last_version.get((0, major - 1), 0)\n",
    "    merge_bases = [f\"v0.{major - 1}.{prev_patch}\"]\n",
    "    if patch != 0:\n",
    "        merge_bases = [f\"v0.{major}.{patch - 1}\"] + merge_bases\n",
    "\n",
    "    return release_notes.ReleaseMetadata(\n",
    "        release=release, merge_bases=merge_bases, target_branch=\"v\" + release\n",
    "    )\n",
    "\n",
    "\n",
    "def comprehensive_version(major, patch):\n",
    "    \"This includes all authors since the previous release split off\"\n",
    "    release = f\"0.{major}.{patch}\"\n",
    "    merge_bases = [f\"v0.{major}.0-dev\"]\n",
    "\n",
    "    return release_notes.ReleaseMetadata(\n",
    "        release=release, merge_bases=merge_bases, target_branch=\"v\" + release\n",
    "    )\n",
    "\n",
    "def since_last_release(major, patch):\n",
    "    if patch == 0:\n",
    "        prev_patch = last_version[(0, major - 1)]\n",
    "        prev = f\"0.{major - 1}.{prev_patch}\"\n",
    "    else:\n",
    "        prev = f\"0.{major}.{patch - 1}\"\n",
    "    release = f\"0.{major}.{patch}\"\n",
    "    return release_notes.ReleaseMetadata(\n",
    "        release=release, merge_bases=[f\"v{prev}\"], target_branch=f\"v{release}\"\n",
    "    )"
   ]
  },
  {
   "cell_type": "code",
   "execution_count": null,
   "id": "6d10ea91",
   "metadata": {},
   "outputs": [],
   "source": [
    "print(new_series(1))\n",
    "print(new_series(5))\n",
    "print(new_version(5,1))\n",
    "print(new_version(5,2))\n",
    "print(comprehensive_version(5,2))"
   ]
  },
  {
   "cell_type": "code",
   "execution_count": null,
   "id": "1f2c68c4",
   "metadata": {},
   "outputs": [],
   "source": [
    "def load_contributions(release_md):\n",
    "    prs = release_notes.PullRequestRange(release_md)\n",
    "    count_contrib = release_notes.ContributionCounter(cached)\n",
    "    for pr in tqdm(prs.pull_ids):\n",
    "        count_contrib(pr)\n",
    "\n",
    "    # Create author list\n",
    "    return count_contrib.sorted()\n",
    "\n",
    "make_zenodo_md = release_notes.ZenodoMetadataBuilder(user_cache=user_cache, teams=TEAMS)"
   ]
  },
  {
   "cell_type": "code",
   "execution_count": null,
   "id": "b6d79230",
   "metadata": {},
   "outputs": [],
   "source": [
    "import zenodoapi\n",
    "%aimport zenodoapi"
   ]
  },
  {
   "cell_type": "code",
   "execution_count": null,
   "id": "b88484c3",
   "metadata": {},
   "outputs": [],
   "source": [
    "# Load the Zenodo token\n",
    "#token_path = Path.home() / \".config/zenodo-sandbox-token\"\n",
    "token_path = Path.home() / \".config/zenodo-token\"\n",
    "with open(token_path) as f:\n",
    "    zenodo_token = f.read().strip()\n",
    "\n",
    "zenodo = zenodoapi.Zenodo(zenodo_token)\n",
    "zenodo.api_url = \"https://zenodo.org/api/\"\n",
    "#assert \"sandbox\" in zenodo.api_url"
   ]
  },
  {
   "cell_type": "markdown",
   "id": "3ae3257d",
   "metadata": {},
   "source": [
    "## Upload major versions\n",
    "\n",
    "Major and minor versions should all look the same "
   ]
  },
  {
   "cell_type": "code",
   "execution_count": null,
   "id": "2bf9e93f",
   "metadata": {},
   "outputs": [],
   "source": [
    "grouped_versions"
   ]
  },
  {
   "cell_type": "code",
   "execution_count": null,
   "id": "b491dbd3",
   "metadata": {},
   "outputs": [],
   "source": [
    "def download_tarball(gh_release):\n",
    "    asset = gh_release['assets'][0]\n",
    "    name = asset['name']\n",
    "    content = cached.download_file(asset['url'], ext=Path(name).suffix)\n",
    "    assert content is not None\n",
    "    return (content, name)\n",
    "\n",
    "gh_release = release_notes.find_release(ghapi, \"0.2.0\")\n",
    "(content, name) = download_tarball(gh_release)"
   ]
  },
  {
   "cell_type": "code",
   "execution_count": null,
   "id": "a09db8e5",
   "metadata": {},
   "outputs": [],
   "source": [
    "urls = []\n",
    "depositions = {}\n",
    "for major, minor in tqdm(sorted(grouped_versions.keys())):\n",
    "    assert major == 0\n",
    "    release_md = comprehensive_version(minor, 0)\n",
    "    title = f\"Celeritas {major}.{minor}\"\n",
    "    deposition = zenodo.find_deposition(title)\n",
    "    if deposition is None:\n",
    "        gh_release = release_notes.find_release(ghapi, release_md.release)\n",
    "        new_md = make_zenodo_md(load_contributions(release_md), release_md, gh_release)\n",
    "        new_md[\"title\"] = title\n",
    "\n",
    "        # Create the Zenodo deposition\n",
    "        deposition = zenodo.create_deposition(new_md)\n",
    "    if not deposition.get_files():\n",
    "        # Upload the release tarball\n",
    "        (content, name) = download_tarball(gh_release)\n",
    "        deposition.upload(content, name)\n",
    "    depositions[(major, minor)] = deposition\n",
    "    urls.append(deposition.html)\n",
    "\n",
    "print(\"\\n\".join(urls))\n",
    "print(\"\"\"\n",
    "IMPORTANT Checklist:\n",
    "- Add community (CANNOT be done later)\n",
    "- Update contributors based on release date\n",
    "- Update licenses\n",
    "\"\"\")"
   ]
  },
  {
   "cell_type": "markdown",
   "id": "a7ada7d9",
   "metadata": {},
   "source": [
    "## Upload minor version"
   ]
  },
  {
   "cell_type": "code",
   "execution_count": null,
   "id": "fead90fa",
   "metadata": {},
   "outputs": [],
   "source": [
    "def create_minor_version(dep, minor, patch):\n",
    "    release_md = comprehensive_version(minor, patch)\n",
    "    gh_release = release_notes.find_release(ghapi, release_md.release)\n",
    "\n",
    "    # Get the Zenodo metadata    \n",
    "    old_md = dep.data[\"metadata\"]\n",
    "    new_md = make_zenodo_md(load_contributions(release_md), release_md, gh_release)\n",
    "    # Only update editors, not team members\n",
    "    new_contrib = [u for u in new_md[\"contributors\"] if u[\"type\"] == \"Editor\"]\n",
    "    old_contrib = [u for u in dep.md[\"contributors\"] if u[\"type\"] != \"Editor\"]\n",
    "    new_md[\"contributors\"] = new_contrib + old_contrib\n",
    "    # Don't change the title\n",
    "    new_md[\"title\"] = dep.data[\"metadata\"][\"title\"]\n",
    "    # Add the body\n",
    "    new_md[\"description\"] = \"\\n\\n\".join(\n",
    "        [\n",
    "            old_md[\"description\"],\n",
    "            f\"<h1>Version {release_md.release}</h1>\",\n",
    "            new_md[\"description\"],\n",
    "        ]\n",
    "    )\n",
    "\n",
    "    new_vers = dep.create_new_version()\n",
    "    new_vers.update(new_md)\n",
    "    # Upload the release\n",
    "    (content, name) = download_tarball(gh_release)\n",
    "    new_vers.upload(content, name)\n",
    "    # The old tarball may still be there (this is buggy) so delete it\n",
    "    new_vers.refresh()\n",
    "    for file in new_vers.get_files():\n",
    "        if file.filename != name:\n",
    "            try:\n",
    "                file.delete()\n",
    "            except Exception as e:\n",
    "                print(f\"Failed to delete {file.filename}: {e}\")\n",
    "    new_vers.refresh()\n",
    "    return new_vers"
   ]
  },
  {
   "cell_type": "code",
   "execution_count": null,
   "id": "c3b04f2c",
   "metadata": {},
   "outputs": [],
   "source": [
    "depositions"
   ]
  },
  {
   "cell_type": "code",
   "execution_count": null,
   "id": "ee052f8d",
   "metadata": {},
   "outputs": [],
   "source": [
    "# Create the next version update for each branch\n",
    "for (major, minor), patches in grouped_versions.items():\n",
    "    dep = depositions[(major, minor)].refresh()\n",
    "    assert patches[0] == 0\n",
    "    for patch in patches[1:]:\n",
    "        ver_key = (major, minor, patch)\n",
    "        try:\n",
    "            # Access published version\n",
    "            new_vers = depositions[ver_key]\n",
    "        except KeyError:\n",
    "            prevdep = zenodo.get_deposition(dep.get_latest_version().id)\n",
    "            new_vers = create_minor_version(prevdep, minor, patch)\n",
    "            depositions[ver_key] = new_vers\n",
    "            print(f\"Created minor version {major}.{minor}.{patch}:\", new_vers.html)\n",
    "            break\n",
    "        else:\n",
    "            print(f\"Existing minor version {major}.{minor}.{patch}:\", new_vers.html)"
   ]
  },
  {
   "cell_type": "code",
   "execution_count": null,
   "id": "b31664f6",
   "metadata": {},
   "outputs": [],
   "source": [
    "cached.flush()"
   ]
  }
 ],
 "metadata": {
  "kernelspec": {
   "display_name": "Python 3 (ipykernel)",
   "language": "python",
   "name": "python3"
  },
  "language_info": {
   "codemirror_mode": {
    "name": "ipython",
    "version": 3
   },
   "file_extension": ".py",
   "mimetype": "text/x-python",
   "name": "python",
   "nbconvert_exporter": "python",
   "pygments_lexer": "ipython3",
   "version": "3.12.6"
  }
 },
 "nbformat": 4,
 "nbformat_minor": 5
}
