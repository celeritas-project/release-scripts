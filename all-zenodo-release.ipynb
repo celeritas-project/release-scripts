{
 "cells": [
  {
   "cell_type": "code",
   "execution_count": 1,
   "id": "03360cdc-bc53-4654-b842-8f04d4272dc4",
   "metadata": {},
   "outputs": [],
   "source": [
    "import re\n",
    "from collections import defaultdict\n",
    "from pathlib import Path\n",
    "\n",
    "from tqdm.notebook import tqdm\n",
    "from itertools import chain\n",
    "\n",
    "import githelpers\n",
    "import ghapicache\n",
    "import release_notes\n",
    "\n",
    "%load_ext autoreload\n",
    "%autoreload 1\n",
    "%aimport githelpers\n",
    "%aimport ghapicache\n",
    "%aimport release_notes"
   ]
  },
  {
   "cell_type": "code",
   "execution_count": 2,
   "id": "fa256c73-ddad-4370-b252-f0c3b4b24baa",
   "metadata": {},
   "outputs": [],
   "source": [
    "cached = ghapicache.GhApiCache(repo=\"g4vg\")\n",
    "ghapi = cached.api"
   ]
  },
  {
   "cell_type": "code",
   "execution_count": 3,
   "id": "d1a3ed76-aab5-464e-ba67-83a84b371bae",
   "metadata": {},
   "outputs": [
    {
     "data": {
      "application/vnd.jupyter.widget-view+json": {
       "model_id": "d430dda476744d82bd73c9c7182122c8",
       "version_major": 2,
       "version_minor": 0
      },
      "text/plain": [
       "  0%|          | 0/5 [00:00<?, ?it/s]"
      ]
     },
     "metadata": {},
     "output_type": "display_data"
    },
    {
     "data": {
      "application/vnd.jupyter.widget-view+json": {
       "model_id": "60bf13bf461c484cbb0148b08fd70757",
       "version_major": 2,
       "version_minor": 0
      },
      "text/plain": [
       "  0%|          | 0/22 [00:00<?, ?it/s]"
      ]
     },
     "metadata": {},
     "output_type": "display_data"
    }
   ],
   "source": [
    "# Load teams\n",
    "TEAMS = {}\n",
    "for t in tqdm(cached.teams()):\n",
    "    TEAMS[t['name']] = release_notes.get_team(cached, t)\n",
    "\n",
    "team_members = frozenset(chain(*(t.members for t in TEAMS.values())))\n",
    "org_members = frozenset(m['login'] for m in cached.org_members())\n",
    "TEAMS['affiliates'] = release_notes.Team(description=\"Associated with Celeritas but not core members\",\n",
    "                                         members=(org_members - team_members))\n",
    "\n",
    "# Initialize the user cache\n",
    "local_repo = Path(\"/Users/seth/Code/g4vg\")\n",
    "githelpers.REPO = local_repo\n",
    "user_cache = release_notes.UserCache(cached, local_repo / \"scripts/release/users.json\")\n",
    "for login in tqdm(org_members):\n",
    "    user_cache[login]\n",
    "\n",
    "# For G4VG don't include team roles\n",
    "release_notes.TEAM_ROLES = {}"
   ]
  },
  {
   "cell_type": "code",
   "execution_count": 4,
   "id": "83a98a91",
   "metadata": {},
   "outputs": [],
   "source": [
    "cached.flush()"
   ]
  },
  {
   "cell_type": "code",
   "execution_count": 5,
   "id": "b8843898",
   "metadata": {},
   "outputs": [],
   "source": [
    "all_tags = githelpers.git(\"tag\", \"--list\")\n",
    "\n",
    "# Filter tags matching the version pattern v(a.b.c) and extract the decimal component\n",
    "#re_version = re.compile(r\"^v(\\d+\\.\\d+\\.\\d+)$\")\n",
    "re_version = re.compile(r\"^v(\\d+\\.\\d+\\.\\d+)$\")\n",
    "version_tuples = [tuple(int(v) for v in m.group(1).split('.')) for tag in all_tags\n",
    "                   if (m := re_version.match(tag))]\n",
    "#versions = [m.group(1) for tag in all_tags if (m := re_version.match(tag))]\n",
    "# print(versions)\n",
    "\n",
    "grouped_versions = defaultdict(list)\n",
    "for major, minor, patch in version_tuples:\n",
    "    grouped_versions[(major, minor)].append(patch)\n",
    "grouped_versions.pop((0, 0), None)  # Remove the initial version (0.0.0)\n",
    "# Find the last patch release for each minor release\n",
    "last_version = {key: max(patches) for key, patches in grouped_versions.items()}"
   ]
  },
  {
   "cell_type": "code",
   "execution_count": 6,
   "id": "bddd8175",
   "metadata": {},
   "outputs": [
    {
     "data": {
      "text/plain": [
       "defaultdict(list, {(0, 1): [0], (1, 0): [0, 1, 2, 3, 4]})"
      ]
     },
     "execution_count": 6,
     "metadata": {},
     "output_type": "execute_result"
    }
   ],
   "source": [
    "grouped_versions"
   ]
  },
  {
   "cell_type": "markdown",
   "id": "2b254304",
   "metadata": {},
   "source": [
    "# Zenodo release\n",
    "\n",
    "- All versions should list contributors since the initial last major release.\n",
    "- Team members should be edited at the first release, then they'll be copied later."
   ]
  },
  {
   "cell_type": "code",
   "execution_count": 7,
   "id": "6d10ea91",
   "metadata": {},
   "outputs": [
    {
     "name": "stdout",
     "output_type": "stream",
     "text": [
      "ReleaseMetadata(release='1.0.0', merge_bases=['v1.0.0-dev^'], target_branch='v1.0.0')\n"
     ]
    }
   ],
   "source": [
    "print(release_notes.ReleaseMetadata.from_comprehensive_version(1,0,0))"
   ]
  },
  {
   "cell_type": "code",
   "execution_count": null,
   "id": "1f2c68c4",
   "metadata": {},
   "outputs": [],
   "source": [
    "def load_contributions(release_md):\n",
    "    prs = release_notes.PullRequestRange(release_md)\n",
    "    count_contrib = release_notes.ContributionCounter(cached)\n",
    "    for pr in tqdm(prs.pull_ids):\n",
    "        count_contrib(pr)\n",
    "\n",
    "    # Create author list\n",
    "    return count_contrib.sorted()\n",
    "\n",
    "make_zenodo_md = release_notes.ZenodoMetadataBuilder(user_cache=user_cache, teams=TEAMS, ghapi_cache=cached)\n",
    "make_contrib = make_zenodo_md.make_zcontrib"
   ]
  },
  {
   "cell_type": "code",
   "execution_count": 9,
   "id": "b6d79230",
   "metadata": {},
   "outputs": [],
   "source": [
    "import zenodoapi\n",
    "%aimport zenodoapi"
   ]
  },
  {
   "cell_type": "code",
   "execution_count": 54,
   "id": "b88484c3",
   "metadata": {},
   "outputs": [],
   "source": [
    "# Load the Zenodo token\n",
    "#token_path = Path.home() / \".config/zenodo-sandbox-token\"\n",
    "token_path = Path.home() / \".config/zenodo-token\"\n",
    "with open(token_path) as f:\n",
    "    zenodo_token = f.read().strip()\n",
    "\n",
    "zenodo = zenodoapi.Zenodo(zenodo_token)\n",
    "zenodo.api_url = \"https://zenodo.org/api/\"\n",
    "#assert \"sandbox\" in zenodo.api_url"
   ]
  },
  {
   "cell_type": "markdown",
   "id": "3ae3257d",
   "metadata": {},
   "source": [
    "## Upload major versions\n",
    "\n",
    "Major and minor versions should all look the same "
   ]
  },
  {
   "cell_type": "code",
   "execution_count": 55,
   "id": "360ca4fa",
   "metadata": {},
   "outputs": [
    {
     "name": "stdout",
     "output_type": "stream",
     "text": [
      "Loading https://github.com/celeritas-project/g4vg/releases/download/v1.0.0/g4vg-1.0.0.tar.gz from cached file data/ghapicache-downloads/346ac5ac958b39d4cd739d4fb512c79ca84deb05.gz\n",
      "Found tarball in release assets\n"
     ]
    }
   ],
   "source": [
    "gh_release = release_notes.find_release(ghapi, \"1.0.0\")\n",
    "tarball = release_notes.get_or_upload_tarball(cached, gh_release)"
   ]
  },
  {
   "cell_type": "code",
   "execution_count": 56,
   "id": "8a8c52d4",
   "metadata": {},
   "outputs": [
    {
     "ename": "KeyError",
     "evalue": "(0, 1)",
     "output_type": "error",
     "traceback": [
      "\u001b[31m---------------------------------------------------------------------------\u001b[39m",
      "\u001b[31mKeyError\u001b[39m                                  Traceback (most recent call last)",
      "\u001b[36mCell\u001b[39m\u001b[36m \u001b[39m\u001b[32mIn[56]\u001b[39m\u001b[32m, line 1\u001b[39m\n\u001b[32m----> \u001b[39m\u001b[32m1\u001b[39m \u001b[38;5;28;01mdel\u001b[39;00m \u001b[43mgrouped_versions\u001b[49m\u001b[43m[\u001b[49m\u001b[43m(\u001b[49m\u001b[32;43m0\u001b[39;49m\u001b[43m,\u001b[49m\u001b[32;43m1\u001b[39;49m\u001b[43m)\u001b[49m\u001b[43m]\u001b[49m\n",
      "\u001b[31mKeyError\u001b[39m: (0, 1)"
     ]
    }
   ],
   "source": [
    "del grouped_versions[(0,1)]"
   ]
  },
  {
   "cell_type": "code",
   "execution_count": 57,
   "id": "a09db8e5",
   "metadata": {},
   "outputs": [
    {
     "data": {
      "application/vnd.jupyter.widget-view+json": {
       "model_id": "11c526f2f6c7437dbd53487530b7db6d",
       "version_major": 2,
       "version_minor": 0
      },
      "text/plain": [
       "  0%|          | 0/1 [00:00<?, ?it/s]"
      ]
     },
     "metadata": {},
     "output_type": "display_data"
    },
    {
     "name": "stdout",
     "output_type": "stream",
     "text": [
      "https://zenodo.org/records/15450227\n",
      "\n",
      "IMPORTANT Checklist:\n",
      "- Add community (CANNOT be done later)\n",
      "- Update contributors based on release date\n",
      "- Update licenses\n",
      "\n"
     ]
    }
   ],
   "source": [
    "urls = []\n",
    "depositions = {}\n",
    "for major, minor in tqdm(sorted(grouped_versions.keys())):\n",
    "    release_md = release_notes.ReleaseMetadata.from_comprehensive_version(major, minor, 0)\n",
    "    title = f\"G4VG {major}.{minor}\"\n",
    "    deposition = zenodo.find_deposition(title)\n",
    "    if deposition is None:\n",
    "        gh_release = release_notes.find_release(ghapi, release_md.release)\n",
    "        new_md = make_zenodo_md(load_contributions(release_md), release_md, gh_release)\n",
    "        new_md[\"title\"] = title\n",
    "\n",
    "        # Create the Zenodo deposition\n",
    "        deposition = zenodo.create_deposition(new_md)\n",
    "    if not deposition.get_files():\n",
    "        # Upload the release tarball\n",
    "        tarball = release_notes.get_tarball(cached, gh_release)\n",
    "        deposition.upload(tarball.content, tarball.name)\n",
    "    depositions[(major, minor)] = deposition\n",
    "    urls.append(deposition.html)\n",
    "\n",
    "print(\"\\n\".join(urls))\n",
    "print(\"\"\"\n",
    "IMPORTANT Checklist:\n",
    "- Add community (CANNOT be done later)\n",
    "- Update contributors based on release date\n",
    "- Update licenses\n",
    "\"\"\")"
   ]
  },
  {
   "cell_type": "markdown",
   "id": "a7ada7d9",
   "metadata": {},
   "source": [
    "## Upload minor version"
   ]
  },
  {
   "cell_type": "code",
   "execution_count": 58,
   "id": "fead90fa",
   "metadata": {},
   "outputs": [],
   "source": [
    "def create_minor_version(dep, *args):\n",
    "    release_md = release_notes.ReleaseMetadata.from_comprehensive_version(*args)\n",
    "    gh_release = release_notes.find_release(ghapi, release_md.release)\n",
    "\n",
    "    # Get the Zenodo metadata    \n",
    "    old_md = dep.data[\"metadata\"]\n",
    "    new_md = make_zenodo_md(load_contributions(release_md), release_md, gh_release)\n",
    "    # Only update editors, not team members\n",
    "    new_contrib = [u for u in new_md[\"contributors\"] if u[\"type\"] == \"Editor\"]\n",
    "    old_contrib = [u for u in dep.md[\"contributors\"] if u[\"type\"] != \"Editor\"]\n",
    "    new_md[\"contributors\"] = new_contrib + old_contrib\n",
    "    # Don't change the title\n",
    "    new_md[\"title\"] = dep.data[\"metadata\"][\"title\"]\n",
    "    # Add the body\n",
    "    new_md[\"description\"] = \"\\n\\n\".join(\n",
    "        [\n",
    "            old_md[\"description\"],\n",
    "            f\"<h1>Version {release_md.release}</h1>\",\n",
    "            new_md[\"description\"],\n",
    "        ]\n",
    "    )\n",
    "\n",
    "    new_vers = dep.create_new_version()\n",
    "    new_vers.update(new_md)\n",
    "    # Upload the release\n",
    "    tarball = release_notes.get_tarball(cached, gh_release)\n",
    "    new_vers.upload(tarball.content, tarball.name)\n",
    "    # The old tarball may still be there (this is buggy) so delete it\n",
    "    new_vers.refresh()\n",
    "    for file in new_vers.get_files():\n",
    "        if file.filename != tarball.name:\n",
    "            try:\n",
    "                file.delete()\n",
    "            except Exception as e:\n",
    "                print(f\"Failed to delete {file.filename}: {e}\")\n",
    "    new_vers.refresh()\n",
    "    return new_vers"
   ]
  },
  {
   "cell_type": "code",
   "execution_count": 59,
   "id": "c3b04f2c",
   "metadata": {},
   "outputs": [
    {
     "data": {
      "text/plain": [
       "{(1, 0): ZenodoDeposition(id=15450227, title=\"G4VG 1.0\")}"
      ]
     },
     "execution_count": 59,
     "metadata": {},
     "output_type": "execute_result"
    }
   ],
   "source": [
    "depositions"
   ]
  },
  {
   "cell_type": "code",
   "execution_count": null,
   "id": "ee052f8d",
   "metadata": {},
   "outputs": [
    {
     "name": "stdout",
     "output_type": "stream",
     "text": [
      "Existing minor version 1.0.1: https://zenodo.org/deposit/15450415\n",
      "Existing minor version 1.0.2: https://zenodo.org/deposit/15450420\n",
      "Existing minor version 1.0.3: https://zenodo.org/deposit/15450421\n"
     ]
    },
    {
     "data": {
      "application/vnd.jupyter.widget-view+json": {
       "model_id": "3522128a25cd48748d85b585be93faba",
       "version_major": 2,
       "version_minor": 0
      },
      "text/plain": [
       "  0%|          | 0/27 [00:00<?, ?it/s]"
      ]
     },
     "metadata": {},
     "output_type": "display_data"
    },
    {
     "name": "stdout",
     "output_type": "stream",
     "text": [
      "Created new version 15450422: https://zenodo.org/deposit/15450422\n",
      "Updated deposition at https://zenodo.org/deposit/15450422 : G4VG 1.0\n",
      "Downloading https://github.com/celeritas-project/g4vg/releases/download/v1.0.4/g4vg-1.0.4.tar.gz\n",
      "Uploaded g4vg-1.0.4.tar.gz: version ad7e1ded-1a4b-4138-8db4-a94e4af51957\n",
      "Failed to delete g4vg-1.0.3.tar.gz: Expecting value: line 1 column 1 (char 0)\n",
      "Updated deposition at https://zenodo.org/deposit/15450422 : G4VG 1.0\n",
      "Created minor version 1.0.4: https://zenodo.org/deposit/15450422\n"
     ]
    }
   ],
   "source": [
    "# Create the next version update for each branch\n",
    "for (major, minor), patches in grouped_versions.items():\n",
    "    dep = depositions[(major, minor)].refresh()\n",
    "    assert patches[0] == 0\n",
    "    for patch in patches[1:]:\n",
    "        ver_key = (major, minor, patch)\n",
    "        try:\n",
    "            # Access published version\n",
    "            new_vers = depositions[ver_key]\n",
    "        except KeyError:\n",
    "            prevdep = zenodo.get_deposition(dep.get_latest_version().id)\n",
    "            new_vers = create_minor_version(prevdep, *ver_key)\n",
    "            #new_vers.md['creators'].append(make_contrib('mrguilima'))\n",
    "            #new_vers.update()\n",
    "            depositions[ver_key] = new_vers\n",
    "            print(f\"Created minor version {major}.{minor}.{patch}:\", new_vers.html)\n",
    "            break\n",
    "        else:\n",
    "            print(f\"Existing minor version {major}.{minor}.{patch}:\", new_vers.html)"
   ]
  },
  {
   "cell_type": "code",
   "execution_count": 63,
   "id": "b31664f6",
   "metadata": {},
   "outputs": [
    {
     "name": "stdout",
     "output_type": "stream",
     "text": [
      "Saved cache to: data/ghapicache-celeritas-project-g4vg.json\n"
     ]
    }
   ],
   "source": [
    "cached.flush()"
   ]
  },
  {
   "cell_type": "code",
   "execution_count": null,
   "id": "f7b46be2",
   "metadata": {},
   "outputs": [],
   "source": []
  }
 ],
 "metadata": {
  "kernelspec": {
   "display_name": "plotting",
   "language": "python",
   "name": "python3"
  },
  "language_info": {
   "codemirror_mode": {
    "name": "ipython",
    "version": 3
   },
   "file_extension": ".py",
   "mimetype": "text/x-python",
   "name": "python",
   "nbconvert_exporter": "python",
   "pygments_lexer": "ipython3",
   "version": "3.13.3"
  }
 },
 "nbformat": 4,
 "nbformat_minor": 5
}
