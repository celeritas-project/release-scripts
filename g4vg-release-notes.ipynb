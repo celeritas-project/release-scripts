{
 "cells": [
  {
   "cell_type": "code",
   "execution_count": null,
   "id": "03360cdc-bc53-4654-b842-8f04d4272dc4",
   "metadata": {},
   "outputs": [],
   "source": [
    "from itertools import chain\n",
    "from pathlib import Path\n",
    "\n",
    "from IPython.display import Markdown, display\n",
    "from tqdm.notebook import tqdm\n",
    "\n",
    "import hashlib\n",
    "from os import environ\n",
    "import subprocess\n",
    "\n",
    "from githelpers import open_pbcopy\n",
    "import ghapicache\n",
    "import release_notes\n",
    "\n",
    "%load_ext autoreload\n",
    "%autoreload 1\n",
    "%aimport githelpers\n",
    "%aimport ghapicache\n",
    "%aimport release_notes"
   ]
  },
  {
   "cell_type": "code",
   "execution_count": 35,
   "id": "fa256c73-ddad-4370-b252-f0c3b4b24baa",
   "metadata": {},
   "outputs": [],
   "source": [
    "import githelpers\n",
    "cached = ghapicache.GhApiCache(repo=\"g4vg\")\n",
    "githelpers.REPO = Path.home() / \"Code/g4vg\"\n",
    "ghapi = cached.api"
   ]
  },
  {
   "cell_type": "code",
   "execution_count": 3,
   "id": "c16ed64d-8f86-481a-a49a-ef61f3f32922",
   "metadata": {},
   "outputs": [
    {
     "data": {
      "application/vnd.jupyter.widget-view+json": {
       "model_id": "d55e039490f4457988f6cbb420bf135e",
       "version_major": 2,
       "version_minor": 0
      },
      "text/plain": [
       "  0%|          | 0/5 [00:00<?, ?it/s]"
      ]
     },
     "metadata": {},
     "output_type": "display_data"
    },
    {
     "data": {
      "application/vnd.jupyter.widget-view+json": {
       "model_id": "7ff583840e9c4d5c8f46306011f7f259",
       "version_major": 2,
       "version_minor": 0
      },
      "text/plain": [
       "  0%|          | 0/22 [00:00<?, ?it/s]"
      ]
     },
     "metadata": {},
     "output_type": "display_data"
    }
   ],
   "source": [
    "# Load teams\n",
    "TEAMS = {}\n",
    "for t in tqdm(cached.teams()):\n",
    "    TEAMS[t['name']] = release_notes.get_team(cached, t)\n",
    "\n",
    "team_members = frozenset(chain(*(t.members for t in TEAMS.values())))\n",
    "org_members = frozenset(m['login'] for m in cached.org_members())\n",
    "TEAMS['affiliates'] = release_notes.Team(description=\"Associated with Celeritas but not core members\",\n",
    "                                         members=(org_members - team_members))\n",
    "\n",
    "# Initialize the user cache\n",
    "local_repo = Path(\"/Users/seth/Code/celeritas-temp\")\n",
    "user_cache = release_notes.UserCache(cached, local_repo / \"scripts/release/users.json\")\n",
    "for login in tqdm(org_members):\n",
    "    user_cache[login]"
   ]
  },
  {
   "cell_type": "markdown",
   "id": "77cb469c",
   "metadata": {},
   "source": [
    "# Draft github release"
   ]
  },
  {
   "cell_type": "code",
   "execution_count": 33,
   "id": "17583417",
   "metadata": {},
   "outputs": [],
   "source": [
    "release_md = release_notes.ReleaseMetadata(\n",
    "    release='1.0.5',\n",
    "    merge_bases=['v1.0.4'],\n",
    "    target_branch='main'\n",
    ")"
   ]
  },
  {
   "cell_type": "code",
   "execution_count": null,
   "id": "642238ba",
   "metadata": {},
   "outputs": [],
   "source": [
    "ghapi = cached.api\n",
    "\n",
    "gh_release = release_notes.find_release(ghapi, release_md.release)"
   ]
  },
  {
   "cell_type": "code",
   "execution_count": 16,
   "id": "30b7fde4",
   "metadata": {},
   "outputs": [
    {
     "name": "stdout",
     "output_type": "stream",
     "text": [
      "No tarball found in release assets: reloading from GitHub\n",
      "Loading https://github.com/celeritas-project/g4vg/releases/download/v1.0.5/g4vg-1.0.5.tar.gz from cached file data/ghapicache-downloads/93c98ff870315508e9521256a83f0c7f92b2cc7e.gz\n",
      "Found tarball in release assets\n",
      "Artifact URL: https://github.com/celeritas-project/g4vg/releases/download/v1.0.5/g4vg-1.0.5.tar.gz\n"
     ]
    }
   ],
   "source": [
    "tarball = release_notes.get_or_upload_tarball(cached, gh_release)\n",
    "print(f\"Artifact URL: {tarball.url}\")"
   ]
  },
  {
   "cell_type": "code",
   "execution_count": 23,
   "id": "30630e2f",
   "metadata": {},
   "outputs": [
    {
     "name": "stdout",
     "output_type": "stream",
     "text": [
      "Spack version copied to clipboard!\n"
     ]
    },
    {
     "data": {
      "text/plain": [
       "0"
      ]
     },
     "execution_count": 23,
     "metadata": {},
     "output_type": "execute_result"
    }
   ],
   "source": [
    "# assert 0\n",
    "sha256_hash = hashlib.sha256(tarball.content).hexdigest()\n",
    "with open_pbcopy() as pb:\n",
    "    pb.write(f'version(\"{release_md.release}\", sha256=\"{sha256_hash}\")\\n')\n",
    "print(\"Spack version copied to clipboard!\")\n",
    "spack = Path(environ[\"SPACK_ROOT\"]) / \"bin\" / \"spack\"\n",
    "package_dir = Path(\n",
    "    subprocess.check_output([spack, \"location\", \"-p\", cached.repo]).decode().strip()\n",
    ")\n",
    "subprocess.check_call([\"open\", package_dir / \"package.py\"])"
   ]
  },
  {
   "cell_type": "markdown",
   "id": "14b2a53a-2e70-4c5f-8c01-def2e2f05feb",
   "metadata": {},
   "source": [
    "# Push to zenodo"
   ]
  },
  {
   "cell_type": "code",
   "execution_count": 24,
   "id": "1df5c94a",
   "metadata": {},
   "outputs": [],
   "source": [
    "import zenodoapi\n",
    "%aimport zenodoapi"
   ]
  },
  {
   "cell_type": "code",
   "execution_count": 25,
   "id": "a6bd63ad",
   "metadata": {},
   "outputs": [],
   "source": [
    "# Load the Zenodo token\n",
    "token_path = Path.home() / \".config/zenodo-token\"\n",
    "with open(token_path) as f:\n",
    "    zenodo_token = f.read().strip()\n",
    "\n",
    "zenodo = zenodoapi.Zenodo(zenodo_token)\n",
    "zenodo.api_url = \"https://zenodo.org/api/\""
   ]
  },
  {
   "cell_type": "code",
   "execution_count": 26,
   "id": "5e22c6c1",
   "metadata": {},
   "outputs": [],
   "source": [
    "def load_contributions(release_md):\n",
    "    prs = release_notes.PullRequestRange(release_md)\n",
    "    count_contrib = release_notes.ContributionCounter(cached)\n",
    "    for pr in tqdm(prs.pull_ids):\n",
    "        count_contrib(pr)\n",
    "\n",
    "    # Create author list\n",
    "    return count_contrib.sorted()\n",
    "\n",
    "def download_tarball(gh_release):\n",
    "    asset = gh_release['assets'][0]\n",
    "    name = asset['name']\n",
    "    content = cached.download_file(asset['url'], ext=Path(name).suffix)\n",
    "    assert content is not None\n",
    "    return (content, name)\n",
    "\n",
    "make_zenodo_md = release_notes.ZenodoMetadataBuilder(user_cache=user_cache, teams=TEAMS)"
   ]
  },
  {
   "cell_type": "markdown",
   "id": "0288b220",
   "metadata": {},
   "source": [
    "## Minor release\n",
    "\n",
    "This assumes the major release has already been published upstream into Zenodo."
   ]
  },
  {
   "cell_type": "code",
   "execution_count": 27,
   "id": "a9ec1ecb",
   "metadata": {},
   "outputs": [],
   "source": [
    "assert not release_md.is_major()\n",
    "major, minor, patch = release_md.as_version()\n",
    "release_md = release_notes.ReleaseMetadata.from_comprehensive_version(minor, patch)\n",
    "major_dep = zenodo.find_deposition(f\"G4VG {major}.{minor}\")"
   ]
  },
  {
   "cell_type": "code",
   "execution_count": 29,
   "id": "08b3465b",
   "metadata": {},
   "outputs": [
    {
     "data": {
      "text/plain": [
       "ZenodoDeposition(id=15450422, title=\"G4VG 1.0\")"
      ]
     },
     "execution_count": 29,
     "metadata": {},
     "output_type": "execute_result"
    }
   ],
   "source": [
    "zenodo.get_deposition(major_dep.get_latest_version().id)"
   ]
  },
  {
   "cell_type": "code",
   "execution_count": null,
   "id": "63c98a75",
   "metadata": {},
   "outputs": [],
   "source": [
    "gh_release = release_notes.find_release(ghapi, release_md.release)"
   ]
  },
  {
   "cell_type": "code",
   "execution_count": 38,
   "id": "6ee3bdba",
   "metadata": {},
   "outputs": [
    {
     "data": {
      "application/vnd.jupyter.widget-view+json": {
       "model_id": "2b57c075aca94da788ae2787c5bbbce1",
       "version_major": 2,
       "version_minor": 0
      },
      "text/plain": [
       "  0%|          | 0/4 [00:00<?, ?it/s]"
      ]
     },
     "metadata": {},
     "output_type": "display_data"
    },
    {
     "name": "stdout",
     "output_type": "stream",
     "text": [
      "Created new version 16949066: https://zenodo.org/deposit/16949066\n",
      "Updated deposition at https://zenodo.org/deposit/16949066 : G4VG 1.0\n",
      "Downloading https://api.github.com/repos/celeritas-project/g4vg/releases/assets/286378892\n",
      "Uploaded g4vg-1.0.5.tar.gz: version b6bfa1a8-a628-4ace-97db-a75f2120baa1\n",
      "Failed to delete g4vg-1.0.4.tar.gz: Expecting value: line 1 column 1 (char 0)\n"
     ]
    },
    {
     "data": {
      "text/plain": [
       "ZenodoDeposition(id=16949066, title=\"G4VG 1.0\")"
      ]
     },
     "execution_count": 38,
     "metadata": {},
     "output_type": "execute_result"
    }
   ],
   "source": [
    "# Get the Zenodo metadata    \n",
    "from requests import HTTPError\n",
    "\n",
    "\n",
    "old_md = major_dep.data[\"metadata\"]\n",
    "new_md = make_zenodo_md(load_contributions(release_md), release_md, gh_release)\n",
    "# Only update editors, not team members\n",
    "old_contrib = new_md[\"contributors\"]\n",
    "new_contrib = [u for u in old_contrib if u[\"type\"] == \"Editor\"]\n",
    "old_contrib = [u for u in old_contrib if u[\"type\"] != \"Editor\"]\n",
    "new_md[\"contributors\"] = new_contrib + old_contrib\n",
    "# Don't change the title\n",
    "new_md[\"title\"] = major_dep.data[\"metadata\"][\"title\"]\n",
    "# Add the body\n",
    "new_md[\"description\"] = \"\\n\\n\".join(\n",
    "    [\n",
    "        old_md[\"description\"],\n",
    "        f\"<h1>Version {release_md.release}</h1>\",\n",
    "        new_md[\"description\"],\n",
    "    ]\n",
    ")\n",
    "try:\n",
    "    new_vers = major_dep.create_new_version()\n",
    "except HTTPError as e:\n",
    "    # Maybe the version already exists\n",
    "    if e.response.status_code == 400:\n",
    "        print(\"Draft may already exist:\", e)\n",
    "        new_vers = major_dep.get_latest_draft()\n",
    "    else:\n",
    "        raise\n",
    "try:\n",
    "    new_vers.update(new_md)\n",
    "except HTTPError as e:\n",
    "    # Something else went wrong? Try to upload the tarball\n",
    "        print(\"Draft may already exist:\", e)\n",
    "\n",
    "# Upload the release\n",
    "(content, name) = download_tarball(gh_release)\n",
    "new_vers.upload(content, name)\n",
    "# The old tarball may still be there (this is buggy) so delete it\n",
    "new_vers.refresh()\n",
    "for file in new_vers.get_files():\n",
    "    if file.filename != name:\n",
    "        try:\n",
    "            file.delete()\n",
    "        except Exception as e:\n",
    "            print(f\"Failed to delete {file.filename}: {e}\")\n",
    "new_vers.refresh()"
   ]
  },
  {
   "cell_type": "markdown",
   "id": "44330c4f",
   "metadata": {},
   "source": [
    "## Major release"
   ]
  },
  {
   "cell_type": "code",
   "execution_count": 57,
   "id": "84f797ce",
   "metadata": {},
   "outputs": [],
   "source": [
    "assert release_md.is_major()\n",
    "major, minor, patch = release_md.as_version()\n",
    "release_md = release_notes.ReleaseMetadata.from_comprehensive_version(minor)\n",
    "title = f\"Celeritas {major}.{minor}\""
   ]
  },
  {
   "cell_type": "code",
   "execution_count": 58,
   "id": "b6eda840",
   "metadata": {},
   "outputs": [
    {
     "data": {
      "application/vnd.jupyter.widget-view+json": {
       "model_id": "170fbe86935a495b897e34643e0325ec",
       "version_major": 2,
       "version_minor": 0
      },
      "text/plain": [
       "  0%|          | 0/234 [00:00<?, ?it/s]"
      ]
     },
     "metadata": {},
     "output_type": "display_data"
    },
    {
     "name": "stdout",
     "output_type": "stream",
     "text": [
      "Created deposition 15281110 at https://zenodo.org/deposit/15281110 : Celeritas 0.6\n"
     ]
    }
   ],
   "source": [
    "zmd = make_zenodo_md(load_contributions(release_md), release_md, gh_release)\n",
    "zmd[\"title\"] = title\n",
    "\n",
    "# Create the Zenodo deposition\n",
    "deposition = zenodo.create_deposition(zmd)"
   ]
  },
  {
   "cell_type": "code",
   "execution_count": 60,
   "id": "fc93420b",
   "metadata": {},
   "outputs": [
    {
     "name": "stdout",
     "output_type": "stream",
     "text": [
      "Uploaded celeritas-0.6.0.tar.gz: version bbd63016-30a1-4be9-9a74-329ca975bed9\n",
      "https://zenodo.org/deposit/15281110\n",
      "\n",
      "IMPORTANT Checklist:\n",
      "- Add community (CANNOT be done later)\n",
      "- Update contributors based on release date\n",
      "- Update licenses\n",
      "\n"
     ]
    }
   ],
   "source": [
    "# Upload the release tarball\n",
    "deposition.upload(artifact_tgz, f\"celeritas-{release_md.release}.tar.gz\")\n",
    "\n",
    "print(deposition.html)\n",
    "print(\"\"\"\n",
    "IMPORTANT Checklist:\n",
    "- Add community (CANNOT be done later)\n",
    "- Update contributors based on release date\n",
    "- Update licenses\n",
    "\"\"\")"
   ]
  },
  {
   "cell_type": "code",
   "execution_count": null,
   "id": "5ed6280d",
   "metadata": {},
   "outputs": [],
   "source": []
  }
 ],
 "metadata": {
  "kernelspec": {
   "display_name": "plotting",
   "language": "python",
   "name": "python3"
  },
  "language_info": {
   "codemirror_mode": {
    "name": "ipython",
    "version": 3
   },
   "file_extension": ".py",
   "mimetype": "text/x-python",
   "name": "python",
   "nbconvert_exporter": "python",
   "pygments_lexer": "ipython3",
   "version": "3.13.3"
  }
 },
 "nbformat": 4,
 "nbformat_minor": 5
}
